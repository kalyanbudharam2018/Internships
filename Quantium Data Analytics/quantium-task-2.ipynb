{
 "cells": [
  {
   "cell_type": "code",
   "execution_count": 1,
   "metadata": {
    "execution": {
     "iopub.execute_input": "2020-11-22T07:47:01.181798Z",
     "iopub.status.busy": "2020-11-22T07:47:01.180937Z",
     "iopub.status.idle": "2020-11-22T07:47:02.241962Z",
     "shell.execute_reply": "2020-11-22T07:47:02.241131Z"
    },
    "executionInfo": {
     "elapsed": 1389,
     "status": "ok",
     "timestamp": 1605861309689,
     "user": {
      "displayName": "Sourabh S",
      "photoUrl": "",
      "userId": "00212742278029482031"
     },
     "user_tz": -330
    },
    "id": "Rd2aYwjSI70w",
    "outputId": "ed072d3e-8f44-4b1e-f2e0-829b78402aa9",
    "papermill": {
     "duration": 1.174314,
     "end_time": "2020-11-22T07:47:02.242098",
     "exception": false,
     "start_time": "2020-11-22T07:47:01.067784",
     "status": "completed"
    },
    "tags": []
   },
   "outputs": [
    {
     "name": "stderr",
     "output_type": "stream",
     "text": [
      "/opt/conda/lib/python3.7/site-packages/ipykernel_launcher.py:13: FutureWarning: Passing a negative integer is deprecated in version 1.0 and will not be supported in future version. Instead, use None to not limit the column width.\n",
      "  del sys.path[0]\n"
     ]
    }
   ],
   "source": [
    "import math\n",
    "import pandas as pd\n",
    "import numpy as np\n",
    "import matplotlib.pyplot as plt\n",
    "import seaborn as sns\n",
    "import missingno as msno\n",
    "from scipy import stats\n",
    "from scipy.stats import norm, skew #for some statistics\n",
    "import re\n",
    "\n",
    "pd.set_option('display.max_columns', None)  # to display all rows and columns while printing.\n",
    "pd.set_option('display.max_rows', None)  \n",
    "pd.set_option('display.max_colwidth', -1)\n",
    "\n",
    "params = {'legend.fontsize': '15',\n",
    "         'axes.labelsize': 'x-large',\n",
    "         'axes.titlesize':'x-large',\n",
    "         'xtick.labelsize':'x-large',\n",
    "         'ytick.labelsize':'x-large',\n",
    "        #  'axes.prop_cycle': plt.cycler(color = plt.cm.Set2.colors),\n",
    "        #  'image.cmap': 'Set2',\n",
    "         'figure.figsize': (18, 7)}\n",
    "plt.rcParams.update(params)\n",
    "\n",
    "# plt.rcParams[\"image.cmap\"] = \"Set1\"\n",
    "\n",
    "# to change default color cycle\n",
    "# plt.rcParams['axes.prop_cycle'] = plt.cycler(color=plt.cm.Set1.colors)\n",
    "# plt.rcParams['figure.figsize'] = 18, 7"
   ]
  },
  {
   "cell_type": "code",
   "execution_count": 2,
   "metadata": {
    "execution": {
     "iopub.execute_input": "2020-11-22T07:47:02.458445Z",
     "iopub.status.busy": "2020-11-22T07:47:02.457634Z",
     "iopub.status.idle": "2020-11-22T07:47:02.460661Z",
     "shell.execute_reply": "2020-11-22T07:47:02.459917Z"
    },
    "executionInfo": {
     "elapsed": 3250,
     "status": "ok",
     "timestamp": 1605861322610,
     "user": {
      "displayName": "Sourabh S",
      "photoUrl": "",
      "userId": "00212742278029482031"
     },
     "user_tz": -330
    },
    "id": "LatAaiYa2Ypq",
    "papermill": {
     "duration": 0.111423,
     "end_time": "2020-11-22T07:47:02.460789",
     "exception": false,
     "start_time": "2020-11-22T07:47:02.349366",
     "status": "completed"
    },
    "tags": []
   },
   "outputs": [],
   "source": [
    "import warnings\n",
    "warnings.simplefilter(action='ignore', category=FutureWarning)"
   ]
  },
  {
   "cell_type": "code",
   "execution_count": 3,
   "metadata": {
    "execution": {
     "iopub.execute_input": "2020-11-22T07:47:02.672012Z",
     "iopub.status.busy": "2020-11-22T07:47:02.671149Z",
     "iopub.status.idle": "2020-11-22T07:47:02.674559Z",
     "shell.execute_reply": "2020-11-22T07:47:02.673854Z"
    },
    "id": "MWAyZX6_bu2u",
    "papermill": {
     "duration": 0.111092,
     "end_time": "2020-11-22T07:47:02.674694",
     "exception": false,
     "start_time": "2020-11-22T07:47:02.563602",
     "status": "completed"
    },
    "tags": []
   },
   "outputs": [],
   "source": [
    "plt.style.use('dark_background')  # to change the default values of plt to our interest."
   ]
  },
  {
   "cell_type": "markdown",
   "metadata": {
    "id": "d5MJkHBhMHAX",
    "papermill": {
     "duration": 0.102394,
     "end_time": "2020-11-22T07:47:02.881282",
     "exception": false,
     "start_time": "2020-11-22T07:47:02.778888",
     "status": "completed"
    },
    "tags": []
   },
   "source": [
    "Read the data."
   ]
  },
  {
   "cell_type": "code",
   "execution_count": 4,
   "metadata": {
    "execution": {
     "iopub.execute_input": "2020-11-22T07:47:03.099777Z",
     "iopub.status.busy": "2020-11-22T07:47:03.098776Z",
     "iopub.status.idle": "2020-11-22T07:47:03.837291Z",
     "shell.execute_reply": "2020-11-22T07:47:03.836485Z"
    },
    "executionInfo": {
     "elapsed": 1459,
     "status": "ok",
     "timestamp": 1605861326473,
     "user": {
      "displayName": "Sourabh S",
      "photoUrl": "",
      "userId": "00212742278029482031"
     },
     "user_tz": -330
    },
    "id": "8nou6zjfbt3n",
    "outputId": "d8cf3555-aed1-4a68-cf47-9b1a212f0708",
    "papermill": {
     "duration": 0.852719,
     "end_time": "2020-11-22T07:47:03.837443",
     "exception": false,
     "start_time": "2020-11-22T07:47:02.984724",
     "status": "completed"
    },
    "tags": []
   },
   "outputs": [
    {
     "data": {
      "text/html": [
       "<div>\n",
       "<style scoped>\n",
       "    .dataframe tbody tr th:only-of-type {\n",
       "        vertical-align: middle;\n",
       "    }\n",
       "\n",
       "    .dataframe tbody tr th {\n",
       "        vertical-align: top;\n",
       "    }\n",
       "\n",
       "    .dataframe thead th {\n",
       "        text-align: right;\n",
       "    }\n",
       "</style>\n",
       "<table border=\"1\" class=\"dataframe\">\n",
       "  <thead>\n",
       "    <tr style=\"text-align: right;\">\n",
       "      <th></th>\n",
       "      <th>date</th>\n",
       "      <th>store_nbr</th>\n",
       "      <th>lylty_card_nbr</th>\n",
       "      <th>txn_id</th>\n",
       "      <th>prod_nbr</th>\n",
       "      <th>prod_name</th>\n",
       "      <th>prod_qty</th>\n",
       "      <th>tot_sales</th>\n",
       "      <th>lifestage</th>\n",
       "      <th>premium_customer</th>\n",
       "      <th>prod_wt</th>\n",
       "      <th>prod_comp</th>\n",
       "      <th>prod_price</th>\n",
       "    </tr>\n",
       "  </thead>\n",
       "  <tbody>\n",
       "    <tr>\n",
       "      <th>0</th>\n",
       "      <td>2018-10-17</td>\n",
       "      <td>1</td>\n",
       "      <td>1000</td>\n",
       "      <td>1</td>\n",
       "      <td>5</td>\n",
       "      <td>natural_chipco seasalt</td>\n",
       "      <td>2</td>\n",
       "      <td>6.0</td>\n",
       "      <td>YOUNG SINGLES/COUPLES</td>\n",
       "      <td>Premium</td>\n",
       "      <td>175</td>\n",
       "      <td>natural_chipco</td>\n",
       "      <td>3.00</td>\n",
       "    </tr>\n",
       "    <tr>\n",
       "      <th>1</th>\n",
       "      <td>2019-05-14</td>\n",
       "      <td>1</td>\n",
       "      <td>1307</td>\n",
       "      <td>348</td>\n",
       "      <td>66</td>\n",
       "      <td>ccs nacho cheese</td>\n",
       "      <td>3</td>\n",
       "      <td>6.3</td>\n",
       "      <td>MIDAGE SINGLES/COUPLES</td>\n",
       "      <td>Budget</td>\n",
       "      <td>175</td>\n",
       "      <td>ccs</td>\n",
       "      <td>2.10</td>\n",
       "    </tr>\n",
       "    <tr>\n",
       "      <th>2</th>\n",
       "      <td>2018-11-10</td>\n",
       "      <td>1</td>\n",
       "      <td>1307</td>\n",
       "      <td>346</td>\n",
       "      <td>96</td>\n",
       "      <td>ww original stacked chips</td>\n",
       "      <td>2</td>\n",
       "      <td>3.8</td>\n",
       "      <td>MIDAGE SINGLES/COUPLES</td>\n",
       "      <td>Budget</td>\n",
       "      <td>160</td>\n",
       "      <td>ww</td>\n",
       "      <td>1.90</td>\n",
       "    </tr>\n",
       "    <tr>\n",
       "      <th>3</th>\n",
       "      <td>2019-03-09</td>\n",
       "      <td>1</td>\n",
       "      <td>1307</td>\n",
       "      <td>347</td>\n",
       "      <td>54</td>\n",
       "      <td>ccs original</td>\n",
       "      <td>1</td>\n",
       "      <td>2.1</td>\n",
       "      <td>MIDAGE SINGLES/COUPLES</td>\n",
       "      <td>Budget</td>\n",
       "      <td>175</td>\n",
       "      <td>ccs</td>\n",
       "      <td>2.10</td>\n",
       "    </tr>\n",
       "    <tr>\n",
       "      <th>4</th>\n",
       "      <td>2019-05-20</td>\n",
       "      <td>1</td>\n",
       "      <td>1343</td>\n",
       "      <td>383</td>\n",
       "      <td>61</td>\n",
       "      <td>smiths crinkle cut chips chicken</td>\n",
       "      <td>2</td>\n",
       "      <td>2.9</td>\n",
       "      <td>MIDAGE SINGLES/COUPLES</td>\n",
       "      <td>Budget</td>\n",
       "      <td>170</td>\n",
       "      <td>smiths</td>\n",
       "      <td>1.45</td>\n",
       "    </tr>\n",
       "  </tbody>\n",
       "</table>\n",
       "</div>"
      ],
      "text/plain": [
       "        date  store_nbr  lylty_card_nbr  txn_id  prod_nbr  \\\n",
       "0 2018-10-17  1          1000            1       5          \n",
       "1 2019-05-14  1          1307            348     66         \n",
       "2 2018-11-10  1          1307            346     96         \n",
       "3 2019-03-09  1          1307            347     54         \n",
       "4 2019-05-20  1          1343            383     61         \n",
       "\n",
       "                          prod_name  prod_qty  tot_sales  \\\n",
       "0  natural_chipco seasalt            2         6.0         \n",
       "1  ccs nacho cheese                  3         6.3         \n",
       "2  ww original stacked chips         2         3.8         \n",
       "3  ccs original                      1         2.1         \n",
       "4  smiths crinkle cut chips chicken  2         2.9         \n",
       "\n",
       "                lifestage premium_customer  prod_wt       prod_comp  \\\n",
       "0  YOUNG SINGLES/COUPLES   Premium          175      natural_chipco   \n",
       "1  MIDAGE SINGLES/COUPLES  Budget           175      ccs              \n",
       "2  MIDAGE SINGLES/COUPLES  Budget           160      ww               \n",
       "3  MIDAGE SINGLES/COUPLES  Budget           175      ccs              \n",
       "4  MIDAGE SINGLES/COUPLES  Budget           170      smiths           \n",
       "\n",
       "   prod_price  \n",
       "0  3.00        \n",
       "1  2.10        \n",
       "2  1.90        \n",
       "3  2.10        \n",
       "4  1.45        "
      ]
     },
     "execution_count": 4,
     "metadata": {},
     "output_type": "execute_result"
    }
   ],
   "source": [
    "df = pd.read_csv('../input/quantium-cleaned-dataset-part2/df1.csv', parse_dates= ['date'])\n",
    "df.head()"
   ]
  },
  {
   "cell_type": "markdown",
   "metadata": {
    "id": "aP4g5EzFMSJi",
    "papermill": {
     "duration": 0.105378,
     "end_time": "2020-11-22T07:47:04.048564",
     "exception": false,
     "start_time": "2020-11-22T07:47:03.943186",
     "status": "completed"
    },
    "tags": []
   },
   "source": [
    "Inserted a column 'year_month' in the dataframe."
   ]
  },
  {
   "cell_type": "code",
   "execution_count": 5,
   "metadata": {
    "execution": {
     "iopub.execute_input": "2020-11-22T07:47:04.266357Z",
     "iopub.status.busy": "2020-11-22T07:47:04.265727Z",
     "iopub.status.idle": "2020-11-22T07:47:04.304552Z",
     "shell.execute_reply": "2020-11-22T07:47:04.303919Z"
    },
    "executionInfo": {
     "elapsed": 1446,
     "status": "ok",
     "timestamp": 1605861333486,
     "user": {
      "displayName": "Sourabh S",
      "photoUrl": "",
      "userId": "00212742278029482031"
     },
     "user_tz": -330
    },
    "id": "a9Ym9AkTcHgh",
    "outputId": "ffca50fa-b060-4d47-f535-dd02e7ce8515",
    "papermill": {
     "duration": 0.151116,
     "end_time": "2020-11-22T07:47:04.304659",
     "exception": false,
     "start_time": "2020-11-22T07:47:04.153543",
     "status": "completed"
    },
    "tags": []
   },
   "outputs": [
    {
     "data": {
      "text/html": [
       "<div>\n",
       "<style scoped>\n",
       "    .dataframe tbody tr th:only-of-type {\n",
       "        vertical-align: middle;\n",
       "    }\n",
       "\n",
       "    .dataframe tbody tr th {\n",
       "        vertical-align: top;\n",
       "    }\n",
       "\n",
       "    .dataframe thead th {\n",
       "        text-align: right;\n",
       "    }\n",
       "</style>\n",
       "<table border=\"1\" class=\"dataframe\">\n",
       "  <thead>\n",
       "    <tr style=\"text-align: right;\">\n",
       "      <th></th>\n",
       "      <th>date</th>\n",
       "      <th>year_month</th>\n",
       "      <th>store_nbr</th>\n",
       "      <th>lylty_card_nbr</th>\n",
       "      <th>txn_id</th>\n",
       "      <th>prod_nbr</th>\n",
       "      <th>prod_name</th>\n",
       "      <th>prod_qty</th>\n",
       "      <th>tot_sales</th>\n",
       "      <th>lifestage</th>\n",
       "      <th>premium_customer</th>\n",
       "      <th>prod_wt</th>\n",
       "      <th>prod_comp</th>\n",
       "      <th>prod_price</th>\n",
       "    </tr>\n",
       "  </thead>\n",
       "  <tbody>\n",
       "    <tr>\n",
       "      <th>0</th>\n",
       "      <td>2018-10-17</td>\n",
       "      <td>2018-10</td>\n",
       "      <td>1</td>\n",
       "      <td>1000</td>\n",
       "      <td>1</td>\n",
       "      <td>5</td>\n",
       "      <td>natural_chipco seasalt</td>\n",
       "      <td>2</td>\n",
       "      <td>6.0</td>\n",
       "      <td>YOUNG SINGLES/COUPLES</td>\n",
       "      <td>Premium</td>\n",
       "      <td>175</td>\n",
       "      <td>natural_chipco</td>\n",
       "      <td>3.00</td>\n",
       "    </tr>\n",
       "    <tr>\n",
       "      <th>1</th>\n",
       "      <td>2019-05-14</td>\n",
       "      <td>2019-05</td>\n",
       "      <td>1</td>\n",
       "      <td>1307</td>\n",
       "      <td>348</td>\n",
       "      <td>66</td>\n",
       "      <td>ccs nacho cheese</td>\n",
       "      <td>3</td>\n",
       "      <td>6.3</td>\n",
       "      <td>MIDAGE SINGLES/COUPLES</td>\n",
       "      <td>Budget</td>\n",
       "      <td>175</td>\n",
       "      <td>ccs</td>\n",
       "      <td>2.10</td>\n",
       "    </tr>\n",
       "    <tr>\n",
       "      <th>2</th>\n",
       "      <td>2018-11-10</td>\n",
       "      <td>2018-11</td>\n",
       "      <td>1</td>\n",
       "      <td>1307</td>\n",
       "      <td>346</td>\n",
       "      <td>96</td>\n",
       "      <td>ww original stacked chips</td>\n",
       "      <td>2</td>\n",
       "      <td>3.8</td>\n",
       "      <td>MIDAGE SINGLES/COUPLES</td>\n",
       "      <td>Budget</td>\n",
       "      <td>160</td>\n",
       "      <td>ww</td>\n",
       "      <td>1.90</td>\n",
       "    </tr>\n",
       "    <tr>\n",
       "      <th>3</th>\n",
       "      <td>2019-03-09</td>\n",
       "      <td>2019-03</td>\n",
       "      <td>1</td>\n",
       "      <td>1307</td>\n",
       "      <td>347</td>\n",
       "      <td>54</td>\n",
       "      <td>ccs original</td>\n",
       "      <td>1</td>\n",
       "      <td>2.1</td>\n",
       "      <td>MIDAGE SINGLES/COUPLES</td>\n",
       "      <td>Budget</td>\n",
       "      <td>175</td>\n",
       "      <td>ccs</td>\n",
       "      <td>2.10</td>\n",
       "    </tr>\n",
       "    <tr>\n",
       "      <th>4</th>\n",
       "      <td>2019-05-20</td>\n",
       "      <td>2019-05</td>\n",
       "      <td>1</td>\n",
       "      <td>1343</td>\n",
       "      <td>383</td>\n",
       "      <td>61</td>\n",
       "      <td>smiths crinkle cut chips chicken</td>\n",
       "      <td>2</td>\n",
       "      <td>2.9</td>\n",
       "      <td>MIDAGE SINGLES/COUPLES</td>\n",
       "      <td>Budget</td>\n",
       "      <td>170</td>\n",
       "      <td>smiths</td>\n",
       "      <td>1.45</td>\n",
       "    </tr>\n",
       "  </tbody>\n",
       "</table>\n",
       "</div>"
      ],
      "text/plain": [
       "        date year_month  store_nbr  lylty_card_nbr  txn_id  prod_nbr  \\\n",
       "0 2018-10-17  2018-10    1          1000            1       5          \n",
       "1 2019-05-14  2019-05    1          1307            348     66         \n",
       "2 2018-11-10  2018-11    1          1307            346     96         \n",
       "3 2019-03-09  2019-03    1          1307            347     54         \n",
       "4 2019-05-20  2019-05    1          1343            383     61         \n",
       "\n",
       "                          prod_name  prod_qty  tot_sales  \\\n",
       "0  natural_chipco seasalt            2         6.0         \n",
       "1  ccs nacho cheese                  3         6.3         \n",
       "2  ww original stacked chips         2         3.8         \n",
       "3  ccs original                      1         2.1         \n",
       "4  smiths crinkle cut chips chicken  2         2.9         \n",
       "\n",
       "                lifestage premium_customer  prod_wt       prod_comp  \\\n",
       "0  YOUNG SINGLES/COUPLES   Premium          175      natural_chipco   \n",
       "1  MIDAGE SINGLES/COUPLES  Budget           175      ccs              \n",
       "2  MIDAGE SINGLES/COUPLES  Budget           160      ww               \n",
       "3  MIDAGE SINGLES/COUPLES  Budget           175      ccs              \n",
       "4  MIDAGE SINGLES/COUPLES  Budget           170      smiths           \n",
       "\n",
       "   prod_price  \n",
       "0  3.00        \n",
       "1  2.10        \n",
       "2  1.90        \n",
       "3  2.10        \n",
       "4  1.45        "
      ]
     },
     "execution_count": 5,
     "metadata": {},
     "output_type": "execute_result"
    }
   ],
   "source": [
    "df.insert(1, 'year_month',df['date'].dt.to_period('M'))     # .dt.to_period('M')\n",
    "df.head()"
   ]
  },
  {
   "cell_type": "markdown",
   "metadata": {
    "id": "7YaX9UdQPfOV",
    "papermill": {
     "duration": 0.081487,
     "end_time": "2020-11-22T07:47:04.478598",
     "exception": false,
     "start_time": "2020-11-22T07:47:04.397111",
     "status": "completed"
    },
    "tags": []
   },
   "source": [
    "We have changed dtypes for simplicity  and easier operations."
   ]
  },
  {
   "cell_type": "code",
   "execution_count": 6,
   "metadata": {
    "execution": {
     "iopub.execute_input": "2020-11-22T07:47:04.623145Z",
     "iopub.status.busy": "2020-11-22T07:47:04.622207Z",
     "iopub.status.idle": "2020-11-22T07:47:04.762107Z",
     "shell.execute_reply": "2020-11-22T07:47:04.761088Z"
    },
    "executionInfo": {
     "elapsed": 1478,
     "status": "ok",
     "timestamp": 1605861338392,
     "user": {
      "displayName": "Sourabh S",
      "photoUrl": "",
      "userId": "00212742278029482031"
     },
     "user_tz": -330
    },
    "id": "wZvXsVucJCn9",
    "outputId": "3e03dd5c-56a9-4e46-ef6d-b8fde2951710",
    "papermill": {
     "duration": 0.21465,
     "end_time": "2020-11-22T07:47:04.762272",
     "exception": false,
     "start_time": "2020-11-22T07:47:04.547622",
     "status": "completed"
    },
    "tags": []
   },
   "outputs": [
    {
     "name": "stdout",
     "output_type": "stream",
     "text": [
      "<class 'pandas.core.frame.DataFrame'>\n",
      "RangeIndex: 249668 entries, 0 to 249667\n",
      "Data columns (total 14 columns):\n",
      " #   Column            Non-Null Count   Dtype         \n",
      "---  ------            --------------   -----         \n",
      " 0   date              249668 non-null  datetime64[ns]\n",
      " 1   year_month        249668 non-null  period[M]     \n",
      " 2   store_nbr         249668 non-null  int64         \n",
      " 3   lylty_card_nbr    249668 non-null  int64         \n",
      " 4   txn_id            249668 non-null  int64         \n",
      " 5   prod_nbr          249668 non-null  int64         \n",
      " 6   prod_name         249668 non-null  category      \n",
      " 7   prod_qty          249668 non-null  category      \n",
      " 8   tot_sales         249668 non-null  float64       \n",
      " 9   lifestage         249668 non-null  category      \n",
      " 10  premium_customer  249668 non-null  category      \n",
      " 11  prod_wt           249668 non-null  int64         \n",
      " 12  prod_comp         249668 non-null  category      \n",
      " 13  prod_price        249668 non-null  float64       \n",
      "dtypes: category(5), datetime64[ns](1), float64(2), int64(5), period[M](1)\n",
      "memory usage: 18.3 MB\n"
     ]
    }
   ],
   "source": [
    "cols_with_changed_dtype = {'prod_name': 'category', 'prod_qty': 'category',\n",
    "                           'lifestage': 'category', 'premium_customer': 'category',\n",
    "                           'prod_comp': 'category'}\n",
    "df = df.astype(cols_with_changed_dtype)\n",
    "df.info()"
   ]
  },
  {
   "cell_type": "markdown",
   "metadata": {
    "id": "ZI4z7EjhRlVi",
    "papermill": {
     "duration": 0.105622,
     "end_time": "2020-11-22T07:47:04.975910",
     "exception": false,
     "start_time": "2020-11-22T07:47:04.870288",
     "status": "completed"
    },
    "tags": []
   },
   "source": [
    "We'll remove the stores which does not contain transaction data of all 12 months."
   ]
  },
  {
   "cell_type": "code",
   "execution_count": 7,
   "metadata": {
    "execution": {
     "iopub.execute_input": "2020-11-22T07:47:05.197780Z",
     "iopub.status.busy": "2020-11-22T07:47:05.196677Z",
     "iopub.status.idle": "2020-11-22T07:47:05.251302Z",
     "shell.execute_reply": "2020-11-22T07:47:05.250708Z"
    },
    "executionInfo": {
     "elapsed": 1033,
     "status": "ok",
     "timestamp": 1605861341800,
     "user": {
      "displayName": "Sourabh S",
      "photoUrl": "",
      "userId": "00212742278029482031"
     },
     "user_tz": -330
    },
    "id": "wImQH4RHfYB3",
    "outputId": "f86d8416-ee81-4261-eb7a-76586c701af8",
    "papermill": {
     "duration": 0.168343,
     "end_time": "2020-11-22T07:47:05.251443",
     "exception": false,
     "start_time": "2020-11-22T07:47:05.083100",
     "status": "completed"
    },
    "tags": []
   },
   "outputs": [
    {
     "name": "stdout",
     "output_type": "stream",
     "text": [
      "Stores with less than 12 month transaction data:\n"
     ]
    },
    {
     "data": {
      "text/plain": [
       "store_nbr\n",
       "11     2 \n",
       "31     2 \n",
       "44     11\n",
       "76     1 \n",
       "85     1 \n",
       "92     1 \n",
       "117    11\n",
       "177    11\n",
       "193    3 \n",
       "206    2 \n",
       "218    11\n",
       "252    2 \n",
       "Name: year_month, dtype: int64"
      ]
     },
     "metadata": {},
     "output_type": "display_data"
    }
   ],
   "source": [
    "check = df.groupby('store_nbr')['year_month'].nunique()\n",
    "check = check[check != 12]\n",
    "print('Stores with less than 12 month transaction data:')\n",
    "display(check)\n",
    "stores_with_less_than_12_months = check.index.to_list()\n",
    "del check"
   ]
  },
  {
   "cell_type": "code",
   "execution_count": 8,
   "metadata": {
    "execution": {
     "iopub.execute_input": "2020-11-22T07:47:05.399466Z",
     "iopub.status.busy": "2020-11-22T07:47:05.398597Z",
     "iopub.status.idle": "2020-11-22T07:47:05.430232Z",
     "shell.execute_reply": "2020-11-22T07:47:05.429682Z"
    },
    "executionInfo": {
     "elapsed": 1322,
     "status": "ok",
     "timestamp": 1605861346374,
     "user": {
      "displayName": "Sourabh S",
      "photoUrl": "",
      "userId": "00212742278029482031"
     },
     "user_tz": -330
    },
    "id": "H7d_xx6KP0tW",
    "outputId": "4a873e15-4d2a-4e38-8bed-d10de626357b",
    "papermill": {
     "duration": 0.108288,
     "end_time": "2020-11-22T07:47:05.430343",
     "exception": false,
     "start_time": "2020-11-22T07:47:05.322055",
     "status": "completed"
    },
    "tags": []
   },
   "outputs": [
    {
     "name": "stdout",
     "output_type": "stream",
     "text": [
      "Shape before dropping: (249668, 14)\n",
      "\n",
      "Shape after dropping: (249441, 14)\n",
      "\n",
      "Number of samples that are dropped: 227\n"
     ]
    }
   ],
   "source": [
    "indices_to_drop = df[df['store_nbr'].isin(stores_with_less_than_12_months)].index\n",
    "print(f'Shape before dropping: {df.shape}\\n')\n",
    "df = df.drop(indices_to_drop)\n",
    "print(f'Shape after dropping: {df.shape}\\n')\n",
    "print(f'Number of samples that are dropped: {len(indices_to_drop)}')"
   ]
  },
  {
   "cell_type": "code",
   "execution_count": 9,
   "metadata": {
    "execution": {
     "iopub.execute_input": "2020-11-22T07:47:05.583152Z",
     "iopub.status.busy": "2020-11-22T07:47:05.582286Z",
     "iopub.status.idle": "2020-11-22T07:47:06.006892Z",
     "shell.execute_reply": "2020-11-22T07:47:06.006047Z"
    },
    "executionInfo": {
     "elapsed": 1504,
     "status": "ok",
     "timestamp": 1605861353498,
     "user": {
      "displayName": "Sourabh S",
      "photoUrl": "",
      "userId": "00212742278029482031"
     },
     "user_tz": -330
    },
    "id": "sswvXVKLq3ls",
    "outputId": "3bb8deb0-c858-4f26-fe13-622dc1d1ae50",
    "papermill": {
     "duration": 0.504684,
     "end_time": "2020-11-22T07:47:06.007035",
     "exception": false,
     "start_time": "2020-11-22T07:47:05.502351",
     "status": "completed"
    },
    "tags": []
   },
   "outputs": [
    {
     "data": {
      "image/png": "[encoded data removed]",
      "text/plain": [
       "<Figure size 1440x648 with 1 Axes>"
      ]
     },
     "metadata": {},
     "output_type": "display_data"
    }
   ],
   "source": [
    "check = df[df['store_nbr'].isin([77, 86, 88])].groupby(['store_nbr', 'year_month'])['tot_sales'].sum() # code to plot\n",
    "colors = []\n",
    "for store, month in check.index:\n",
    "    if store == 77:\n",
    "        colors.append('b')\n",
    "    elif store == 86:\n",
    "        colors.append('g')\n",
    "    else:\n",
    "        colors.append('r')\n",
    "\n",
    "check.plot(kind = 'bar', color = colors, figsize = (20, 9))\n",
    "plt.show()\n",
    "del check, colors"
   ]
  },
  {
   "cell_type": "code",
   "execution_count": 10,
   "metadata": {
    "execution": {
     "iopub.execute_input": "2020-11-22T07:47:06.236089Z",
     "iopub.status.busy": "2020-11-22T07:47:06.235391Z",
     "iopub.status.idle": "2020-11-22T07:47:06.313266Z",
     "shell.execute_reply": "2020-11-22T07:47:06.312612Z"
    },
    "executionInfo": {
     "elapsed": 1294,
     "status": "ok",
     "timestamp": 1605861360157,
     "user": {
      "displayName": "Sourabh S",
      "photoUrl": "",
      "userId": "00212742278029482031"
     },
     "user_tz": -330
    },
    "id": "5sWrtrMxKzCk",
    "papermill": {
     "duration": 0.194807,
     "end_time": "2020-11-22T07:47:06.313379",
     "exception": false,
     "start_time": "2020-11-22T07:47:06.118572",
     "status": "completed"
    },
    "tags": []
   },
   "outputs": [],
   "source": [
    "df['yearly_sale'] = df.groupby('store_nbr')['tot_sales'].transform('sum')\n",
    "df['yearly_custs'] = df.groupby('store_nbr')['lylty_card_nbr'].transform('nunique')\n",
    "df['monthly_sale'] = df.groupby(['store_nbr', 'year_month'])['tot_sales'].transform('sum')\n",
    "df['monthly_custs'] = df.groupby(['store_nbr', 'year_month'])['lylty_card_nbr'].transform('nunique')\n",
    "# df['monthly_txn'] = df.groupby(['store_nbr', 'year_month'])['txn_id'].agg({'txn_id': 'nunique'})"
   ]
  },
  {
   "cell_type": "code",
   "execution_count": 11,
   "metadata": {
    "execution": {
     "iopub.execute_input": "2020-11-22T07:47:06.445964Z",
     "iopub.status.busy": "2020-11-22T07:47:06.445418Z",
     "iopub.status.idle": "2020-11-22T07:47:06.448561Z",
     "shell.execute_reply": "2020-11-22T07:47:06.448191Z"
    },
    "id": "kAzbKH3abb7T",
    "papermill": {
     "duration": 0.061137,
     "end_time": "2020-11-22T07:47:06.448634",
     "exception": false,
     "start_time": "2020-11-22T07:47:06.387497",
     "status": "completed"
    },
    "tags": []
   },
   "outputs": [],
   "source": [
    "# df1 = df.copy()\n",
    "# data = df.groupby(['store_nbr', 'month']).apply(lambda subdf: subdf['lylty_card_nbr'].count())\n",
    "# # data['count'] = df.groupby(['store_nbr', 'month']).apply(lambda subdf: subdf['lylty_card_nbr'].count())\n",
    "# data.head(25)"
   ]
  },
  {
   "cell_type": "markdown",
   "metadata": {
    "id": "vqwlyv8pI_Lk",
    "papermill": {
     "duration": 0.051324,
     "end_time": "2020-11-22T07:47:06.551142",
     "exception": false,
     "start_time": "2020-11-22T07:47:06.499818",
     "status": "completed"
    },
    "tags": []
   },
   "source": [
    "I need to add another column: average transaction per customer in the store."
   ]
  },
  {
   "cell_type": "code",
   "execution_count": 12,
   "metadata": {
    "execution": {
     "iopub.execute_input": "2020-11-22T07:47:06.691930Z",
     "iopub.status.busy": "2020-11-22T07:47:06.691501Z",
     "iopub.status.idle": "2020-11-22T07:47:06.907435Z",
     "shell.execute_reply": "2020-11-22T07:47:06.906726Z"
    },
    "executionInfo": {
     "elapsed": 1032,
     "status": "ok",
     "timestamp": 1605861363940,
     "user": {
      "displayName": "Sourabh S",
      "photoUrl": "",
      "userId": "00212742278029482031"
     },
     "user_tz": -330
    },
    "id": "wuSLO4ukRLtP",
    "papermill": {
     "duration": 0.304488,
     "end_time": "2020-11-22T07:47:06.907584",
     "exception": false,
     "start_time": "2020-11-22T07:47:06.603096",
     "status": "completed"
    },
    "tags": []
   },
   "outputs": [],
   "source": [
    "avg_trans = df.groupby('store_nbr').apply(lambda subdf: (subdf['txn_id'].nunique() / subdf['yearly_custs'].unique()))\n",
    "avg_trans = avg_trans.astype('float64')\n",
    "df['avg_txn_per_cust'] = df['store_nbr'].map(avg_trans)"
   ]
  },
  {
   "cell_type": "code",
   "execution_count": 13,
   "metadata": {
    "execution": {
     "iopub.execute_input": "2020-11-22T07:47:07.135513Z",
     "iopub.status.busy": "2020-11-22T07:47:07.134463Z",
     "iopub.status.idle": "2020-11-22T07:47:07.138478Z",
     "shell.execute_reply": "2020-11-22T07:47:07.137650Z"
    },
    "executionInfo": {
     "elapsed": 1129,
     "status": "ok",
     "timestamp": 1605283284521,
     "user": {
      "displayName": "Sourabh S",
      "photoUrl": "",
      "userId": "00212742278029482031"
     },
     "user_tz": -330
    },
    "id": "X88chltDTA4q",
    "outputId": "9be570aa-51e3-4a11-bb30-57be9fb2420c",
    "papermill": {
     "duration": 0.120296,
     "end_time": "2020-11-22T07:47:07.138602",
     "exception": false,
     "start_time": "2020-11-22T07:47:07.018306",
     "status": "completed"
    },
    "tags": []
   },
   "outputs": [],
   "source": [
    "# store_272 = df1.groupby('store_nbr').get_group(272)\n",
    "# no_of_customers = store_272['no_of_custs'].unique()\n",
    "# no_of_transactions = store_272['txn_id'].nunique()\n",
    "# print(f'no of customers: {no_of_customers}')\n",
    "# print(f'no of transactions: {no_of_transactions}')\n",
    "# print((no_of_transactions / no_of_customers).round(4))"
   ]
  },
  {
   "cell_type": "code",
   "execution_count": 14,
   "metadata": {
    "execution": {
     "iopub.execute_input": "2020-11-22T07:47:07.388428Z",
     "iopub.status.busy": "2020-11-22T07:47:07.387669Z",
     "iopub.status.idle": "2020-11-22T07:47:07.393782Z",
     "shell.execute_reply": "2020-11-22T07:47:07.393233Z"
    },
    "executionInfo": {
     "elapsed": 2704,
     "status": "ok",
     "timestamp": 1605706826531,
     "user": {
      "displayName": "Sourabh S",
      "photoUrl": "",
      "userId": "00212742278029482031"
     },
     "user_tz": -330
    },
    "id": "NyOGV7EOZ--a",
    "outputId": "644ef02e-872f-476f-d580-9bdd66e2d179",
    "papermill": {
     "duration": 0.142641,
     "end_time": "2020-11-22T07:47:07.393890",
     "exception": false,
     "start_time": "2020-11-22T07:47:07.251249",
     "status": "completed"
    },
    "tags": []
   },
   "outputs": [
    {
     "data": {
      "text/html": [
       "<div>\n",
       "<style scoped>\n",
       "    .dataframe tbody tr th:only-of-type {\n",
       "        vertical-align: middle;\n",
       "    }\n",
       "\n",
       "    .dataframe tbody tr th {\n",
       "        vertical-align: top;\n",
       "    }\n",
       "\n",
       "    .dataframe thead th {\n",
       "        text-align: right;\n",
       "    }\n",
       "</style>\n",
       "<table border=\"1\" class=\"dataframe\">\n",
       "  <thead>\n",
       "    <tr style=\"text-align: right;\">\n",
       "      <th></th>\n",
       "      <th>date</th>\n",
       "      <th>year_month</th>\n",
       "      <th>store_nbr</th>\n",
       "      <th>lylty_card_nbr</th>\n",
       "      <th>txn_id</th>\n",
       "      <th>prod_nbr</th>\n",
       "      <th>prod_name</th>\n",
       "      <th>prod_qty</th>\n",
       "      <th>tot_sales</th>\n",
       "      <th>lifestage</th>\n",
       "      <th>premium_customer</th>\n",
       "      <th>prod_wt</th>\n",
       "      <th>prod_comp</th>\n",
       "      <th>prod_price</th>\n",
       "      <th>yearly_sale</th>\n",
       "      <th>yearly_custs</th>\n",
       "      <th>monthly_sale</th>\n",
       "      <th>monthly_custs</th>\n",
       "      <th>avg_txn_per_cust</th>\n",
       "    </tr>\n",
       "  </thead>\n",
       "  <tbody>\n",
       "    <tr>\n",
       "      <th>0</th>\n",
       "      <td>2018-10-17</td>\n",
       "      <td>2018-10</td>\n",
       "      <td>1</td>\n",
       "      <td>1000</td>\n",
       "      <td>1</td>\n",
       "      <td>5</td>\n",
       "      <td>natural_chipco seasalt</td>\n",
       "      <td>2</td>\n",
       "      <td>6.0</td>\n",
       "      <td>YOUNG SINGLES/COUPLES</td>\n",
       "      <td>Premium</td>\n",
       "      <td>175</td>\n",
       "      <td>natural_chipco</td>\n",
       "      <td>3.00</td>\n",
       "      <td>2237.3</td>\n",
       "      <td>335</td>\n",
       "      <td>178.0</td>\n",
       "      <td>40</td>\n",
       "      <td>1.608955</td>\n",
       "    </tr>\n",
       "    <tr>\n",
       "      <th>1</th>\n",
       "      <td>2019-05-14</td>\n",
       "      <td>2019-05</td>\n",
       "      <td>1</td>\n",
       "      <td>1307</td>\n",
       "      <td>348</td>\n",
       "      <td>66</td>\n",
       "      <td>ccs nacho cheese</td>\n",
       "      <td>3</td>\n",
       "      <td>6.3</td>\n",
       "      <td>MIDAGE SINGLES/COUPLES</td>\n",
       "      <td>Budget</td>\n",
       "      <td>175</td>\n",
       "      <td>ccs</td>\n",
       "      <td>2.10</td>\n",
       "      <td>2237.3</td>\n",
       "      <td>335</td>\n",
       "      <td>207.1</td>\n",
       "      <td>43</td>\n",
       "      <td>1.608955</td>\n",
       "    </tr>\n",
       "    <tr>\n",
       "      <th>2</th>\n",
       "      <td>2018-11-10</td>\n",
       "      <td>2018-11</td>\n",
       "      <td>1</td>\n",
       "      <td>1307</td>\n",
       "      <td>346</td>\n",
       "      <td>96</td>\n",
       "      <td>ww original stacked chips</td>\n",
       "      <td>2</td>\n",
       "      <td>3.8</td>\n",
       "      <td>MIDAGE SINGLES/COUPLES</td>\n",
       "      <td>Budget</td>\n",
       "      <td>160</td>\n",
       "      <td>ww</td>\n",
       "      <td>1.90</td>\n",
       "      <td>2237.3</td>\n",
       "      <td>335</td>\n",
       "      <td>187.5</td>\n",
       "      <td>45</td>\n",
       "      <td>1.608955</td>\n",
       "    </tr>\n",
       "    <tr>\n",
       "      <th>3</th>\n",
       "      <td>2019-03-09</td>\n",
       "      <td>2019-03</td>\n",
       "      <td>1</td>\n",
       "      <td>1307</td>\n",
       "      <td>347</td>\n",
       "      <td>54</td>\n",
       "      <td>ccs original</td>\n",
       "      <td>1</td>\n",
       "      <td>2.1</td>\n",
       "      <td>MIDAGE SINGLES/COUPLES</td>\n",
       "      <td>Budget</td>\n",
       "      <td>175</td>\n",
       "      <td>ccs</td>\n",
       "      <td>2.10</td>\n",
       "      <td>2237.3</td>\n",
       "      <td>335</td>\n",
       "      <td>185.2</td>\n",
       "      <td>43</td>\n",
       "      <td>1.608955</td>\n",
       "    </tr>\n",
       "    <tr>\n",
       "      <th>4</th>\n",
       "      <td>2019-05-20</td>\n",
       "      <td>2019-05</td>\n",
       "      <td>1</td>\n",
       "      <td>1343</td>\n",
       "      <td>383</td>\n",
       "      <td>61</td>\n",
       "      <td>smiths crinkle cut chips chicken</td>\n",
       "      <td>2</td>\n",
       "      <td>2.9</td>\n",
       "      <td>MIDAGE SINGLES/COUPLES</td>\n",
       "      <td>Budget</td>\n",
       "      <td>170</td>\n",
       "      <td>smiths</td>\n",
       "      <td>1.45</td>\n",
       "      <td>2237.3</td>\n",
       "      <td>335</td>\n",
       "      <td>207.1</td>\n",
       "      <td>43</td>\n",
       "      <td>1.608955</td>\n",
       "    </tr>\n",
       "  </tbody>\n",
       "</table>\n",
       "</div>"
      ],
      "text/plain": [
       "        date year_month  store_nbr  lylty_card_nbr  txn_id  prod_nbr  \\\n",
       "0 2018-10-17  2018-10    1          1000            1       5          \n",
       "1 2019-05-14  2019-05    1          1307            348     66         \n",
       "2 2018-11-10  2018-11    1          1307            346     96         \n",
       "3 2019-03-09  2019-03    1          1307            347     54         \n",
       "4 2019-05-20  2019-05    1          1343            383     61         \n",
       "\n",
       "                          prod_name prod_qty  tot_sales  \\\n",
       "0  natural_chipco seasalt            2        6.0         \n",
       "1  ccs nacho cheese                  3        6.3         \n",
       "2  ww original stacked chips         2        3.8         \n",
       "3  ccs original                      1        2.1         \n",
       "4  smiths crinkle cut chips chicken  2        2.9         \n",
       "\n",
       "                lifestage premium_customer  prod_wt       prod_comp  \\\n",
       "0  YOUNG SINGLES/COUPLES   Premium          175      natural_chipco   \n",
       "1  MIDAGE SINGLES/COUPLES  Budget           175      ccs              \n",
       "2  MIDAGE SINGLES/COUPLES  Budget           160      ww               \n",
       "3  MIDAGE SINGLES/COUPLES  Budget           175      ccs              \n",
       "4  MIDAGE SINGLES/COUPLES  Budget           170      smiths           \n",
       "\n",
       "   prod_price  yearly_sale  yearly_custs  monthly_sale  monthly_custs  \\\n",
       "0  3.00        2237.3       335           178.0         40              \n",
       "1  2.10        2237.3       335           207.1         43              \n",
       "2  1.90        2237.3       335           187.5         45              \n",
       "3  2.10        2237.3       335           185.2         43              \n",
       "4  1.45        2237.3       335           207.1         43              \n",
       "\n",
       "   avg_txn_per_cust  \n",
       "0  1.608955          \n",
       "1  1.608955          \n",
       "2  1.608955          \n",
       "3  1.608955          \n",
       "4  1.608955          "
      ]
     },
     "execution_count": 14,
     "metadata": {},
     "output_type": "execute_result"
    }
   ],
   "source": [
    "df.head()"
   ]
  },
  {
   "cell_type": "markdown",
   "metadata": {
    "id": "Wvd_MinSzx2U",
    "papermill": {
     "duration": 0.074037,
     "end_time": "2020-11-22T07:47:07.542288",
     "exception": false,
     "start_time": "2020-11-22T07:47:07.468251",
     "status": "completed"
    },
    "tags": []
   },
   "source": [
    "\"pre_df\" is the dataset which contains samples only before the trial period.\n",
    "\n",
    "\"trial_df\" is the datset which contains samples of trial period."
   ]
  },
  {
   "cell_type": "code",
   "execution_count": 15,
   "metadata": {
    "execution": {
     "iopub.execute_input": "2020-11-22T07:47:07.697881Z",
     "iopub.status.busy": "2020-11-22T07:47:07.697172Z",
     "iopub.status.idle": "2020-11-22T07:47:07.731631Z",
     "shell.execute_reply": "2020-11-22T07:47:07.731020Z"
    },
    "executionInfo": {
     "elapsed": 1298,
     "status": "ok",
     "timestamp": 1605861369304,
     "user": {
      "displayName": "Sourabh S",
      "photoUrl": "",
      "userId": "00212742278029482031"
     },
     "user_tz": -330
    },
    "id": "mMT-WXN-mQbr",
    "papermill": {
     "duration": 0.114969,
     "end_time": "2020-11-22T07:47:07.731747",
     "exception": false,
     "start_time": "2020-11-22T07:47:07.616778",
     "status": "completed"
    },
    "tags": []
   },
   "outputs": [],
   "source": [
    "pre_df = df[df['date'] < \"2019-02-01\"]\n",
    "trial_df = df[(df['date'] > \"2019-01-31\") & (df['date'] < \"2019-05-01\")]"
   ]
  },
  {
   "cell_type": "code",
   "execution_count": 16,
   "metadata": {
    "execution": {
     "iopub.execute_input": "2020-11-22T07:47:07.897316Z",
     "iopub.status.busy": "2020-11-22T07:47:07.887682Z",
     "iopub.status.idle": "2020-11-22T07:47:08.693462Z",
     "shell.execute_reply": "2020-11-22T07:47:08.692914Z"
    },
    "executionInfo": {
     "elapsed": 2167,
     "status": "ok",
     "timestamp": 1605861372381,
     "user": {
      "displayName": "Sourabh S",
      "photoUrl": "",
      "userId": "00212742278029482031"
     },
     "user_tz": -330
    },
    "id": "nQnPXtXW-jze",
    "outputId": "c5714c99-3bb8-48ab-d25f-29d63c78b645",
    "papermill": {
     "duration": 0.886589,
     "end_time": "2020-11-22T07:47:08.693585",
     "exception": false,
     "start_time": "2020-11-22T07:47:07.806996",
     "status": "completed"
    },
    "tags": []
   },
   "outputs": [
    {
     "name": "stdout",
     "output_type": "stream",
     "text": [
      "the trial_df dataframe consists of samples between 2019-02-01 00:00:00, 2019-04-30 00:00:00\n",
      "the pre_df dataframe consists of samples between 2018-07-01 00:00:00, 2019-01-31 00:00:00\n"
     ]
    }
   ],
   "source": [
    "min_date_in_trial_df, max_date_in_trial_df = min(trial_df['date']), max(trial_df['date'])\n",
    "min_date_in_pre_df, max_date_in_pre_df =  min(pre_df['date']), max(pre_df['date'])\n",
    "print(f'the trial_df dataframe consists of samples between {min_date_in_trial_df}, {max_date_in_trial_df}')\n",
    "print(f'the pre_df dataframe consists of samples between {min_date_in_pre_df}, {max_date_in_pre_df}')"
   ]
  },
  {
   "cell_type": "code",
   "execution_count": 17,
   "metadata": {
    "execution": {
     "iopub.execute_input": "2020-11-22T07:47:08.851685Z",
     "iopub.status.busy": "2020-11-22T07:47:08.850985Z",
     "iopub.status.idle": "2020-11-22T07:47:09.404751Z",
     "shell.execute_reply": "2020-11-22T07:47:09.404242Z"
    },
    "executionInfo": {
     "elapsed": 2428,
     "status": "ok",
     "timestamp": 1605861376127,
     "user": {
      "displayName": "Sourabh S",
      "photoUrl": "",
      "userId": "00212742278029482031"
     },
     "user_tz": -330
    },
    "id": "YN4fkfVaZ0Ut",
    "outputId": "33900b0f-72a7-4d7c-e827-c6292f0f7ab9",
    "papermill": {
     "duration": 0.635749,
     "end_time": "2020-11-22T07:47:09.404838",
     "exception": false,
     "start_time": "2020-11-22T07:47:08.769089",
     "status": "completed"
    },
    "tags": []
   },
   "outputs": [
    {
     "data": {
      "image/png": "[encoded data removed]",
      "text/plain": [
       "<Figure size 1296x504 with 2 Axes>"
      ]
     },
     "metadata": {},
     "output_type": "display_data"
    }
   ],
   "source": [
    "corrmat = pre_df.corr()\n",
    "mask = np.triu(np.ones_like(corrmat, dtype=bool))\n",
    "# plt.subplots(figsize = (25, 15))\n",
    "sns.heatmap(corrmat, mask = mask, cmap = 'coolwarm', annot = True)\n",
    "plt.xticks(rotation = 30)\n",
    "plt.show()"
   ]
  },
  {
   "cell_type": "code",
   "execution_count": 18,
   "metadata": {
    "execution": {
     "iopub.execute_input": "2020-11-22T07:47:09.518138Z",
     "iopub.status.busy": "2020-11-22T07:47:09.517343Z",
     "iopub.status.idle": "2020-11-22T07:47:09.520632Z",
     "shell.execute_reply": "2020-11-22T07:47:09.519969Z"
    },
    "id": "1d1L3wqFoq3C",
    "papermill": {
     "duration": 0.060725,
     "end_time": "2020-11-22T07:47:09.520754",
     "exception": false,
     "start_time": "2020-11-22T07:47:09.460029",
     "status": "completed"
    },
    "tags": []
   },
   "outputs": [],
   "source": [
    "# grp = pre_df.groupby('store_nbr')\n",
    "# for name, subdf in grp:\n",
    "#     if name not in [77, 86, 88]:\n",
    "#         #it is a control store\n",
    "#         subdf\n",
    "#     else:\n",
    "#         # it is a trial store\n",
    "#         pass"
   ]
  },
  {
   "cell_type": "markdown",
   "metadata": {
    "id": "Q0TS64J4M1SB",
    "papermill": {
     "duration": 0.076672,
     "end_time": "2020-11-22T07:47:09.676665",
     "exception": false,
     "start_time": "2020-11-22T07:47:09.599993",
     "status": "completed"
    },
    "tags": []
   },
   "source": [
    "'metrics_cols' are the features for correlation and ranking between trial stores and control stores."
   ]
  },
  {
   "cell_type": "code",
   "execution_count": 19,
   "metadata": {
    "execution": {
     "iopub.execute_input": "2020-11-22T07:47:09.836055Z",
     "iopub.status.busy": "2020-11-22T07:47:09.835326Z",
     "iopub.status.idle": "2020-11-22T07:47:09.838969Z",
     "shell.execute_reply": "2020-11-22T07:47:09.838436Z"
    },
    "executionInfo": {
     "elapsed": 1035,
     "status": "ok",
     "timestamp": 1605861384113,
     "user": {
      "displayName": "Sourabh S",
      "photoUrl": "",
      "userId": "00212742278029482031"
     },
     "user_tz": -330
    },
    "id": "xSC4p-U8bXmy",
    "papermill": {
     "duration": 0.085583,
     "end_time": "2020-11-22T07:47:09.839072",
     "exception": false,
     "start_time": "2020-11-22T07:47:09.753489",
     "status": "completed"
    },
    "tags": []
   },
   "outputs": [],
   "source": [
    "metrics_cols = ['store_nbr', 'year_month', 'yearly_sale',\n",
    "                'yearly_custs','monthly_sale', 'monthly_custs', 'avg_txn_per_cust']\n",
    "# metrics_data = pre_trial_data.loc[:, metrics_cols]"
   ]
  },
  {
   "cell_type": "code",
   "execution_count": 20,
   "metadata": {
    "execution": {
     "iopub.execute_input": "2020-11-22T07:47:10.003150Z",
     "iopub.status.busy": "2020-11-22T07:47:10.002494Z",
     "iopub.status.idle": "2020-11-22T07:47:10.041714Z",
     "shell.execute_reply": "2020-11-22T07:47:10.042201Z"
    },
    "executionInfo": {
     "elapsed": 1029,
     "status": "ok",
     "timestamp": 1605861386145,
     "user": {
      "displayName": "Sourabh S",
      "photoUrl": "",
      "userId": "00212742278029482031"
     },
     "user_tz": -330
    },
    "id": "OubwywzMF0g4",
    "outputId": "1100a26e-6035-4441-bad6-9c503a9d5fd8",
    "papermill": {
     "duration": 0.12502,
     "end_time": "2020-11-22T07:47:10.042350",
     "exception": false,
     "start_time": "2020-11-22T07:47:09.917330",
     "status": "completed"
    },
    "tags": []
   },
   "outputs": [
    {
     "data": {
      "text/html": [
       "<div>\n",
       "<style scoped>\n",
       "    .dataframe tbody tr th:only-of-type {\n",
       "        vertical-align: middle;\n",
       "    }\n",
       "\n",
       "    .dataframe tbody tr th {\n",
       "        vertical-align: top;\n",
       "    }\n",
       "\n",
       "    .dataframe thead th {\n",
       "        text-align: right;\n",
       "    }\n",
       "</style>\n",
       "<table border=\"1\" class=\"dataframe\">\n",
       "  <thead>\n",
       "    <tr style=\"text-align: right;\">\n",
       "      <th></th>\n",
       "      <th></th>\n",
       "      <th>yearly_sale</th>\n",
       "      <th>yearly_custs</th>\n",
       "      <th>monthly_sale</th>\n",
       "      <th>monthly_custs</th>\n",
       "      <th>avg_txn_per_cust</th>\n",
       "    </tr>\n",
       "    <tr>\n",
       "      <th>store_nbr</th>\n",
       "      <th>year_month</th>\n",
       "      <th></th>\n",
       "      <th></th>\n",
       "      <th></th>\n",
       "      <th></th>\n",
       "      <th></th>\n",
       "    </tr>\n",
       "  </thead>\n",
       "  <tbody>\n",
       "    <tr>\n",
       "      <th rowspan=\"5\" valign=\"top\">1</th>\n",
       "      <th>2018-07</th>\n",
       "      <td>2237.3</td>\n",
       "      <td>335</td>\n",
       "      <td>191.6</td>\n",
       "      <td>48</td>\n",
       "      <td>1.608955</td>\n",
       "    </tr>\n",
       "    <tr>\n",
       "      <th>2018-08</th>\n",
       "      <td>2237.3</td>\n",
       "      <td>335</td>\n",
       "      <td>168.4</td>\n",
       "      <td>41</td>\n",
       "      <td>1.608955</td>\n",
       "    </tr>\n",
       "    <tr>\n",
       "      <th>2018-09</th>\n",
       "      <td>2237.3</td>\n",
       "      <td>335</td>\n",
       "      <td>268.1</td>\n",
       "      <td>57</td>\n",
       "      <td>1.608955</td>\n",
       "    </tr>\n",
       "    <tr>\n",
       "      <th>2018-10</th>\n",
       "      <td>2237.3</td>\n",
       "      <td>335</td>\n",
       "      <td>178.0</td>\n",
       "      <td>40</td>\n",
       "      <td>1.608955</td>\n",
       "    </tr>\n",
       "    <tr>\n",
       "      <th>2018-11</th>\n",
       "      <td>2237.3</td>\n",
       "      <td>335</td>\n",
       "      <td>187.5</td>\n",
       "      <td>45</td>\n",
       "      <td>1.608955</td>\n",
       "    </tr>\n",
       "  </tbody>\n",
       "</table>\n",
       "</div>"
      ],
      "text/plain": [
       "                      yearly_sale  yearly_custs  monthly_sale  monthly_custs  \\\n",
       "store_nbr year_month                                                           \n",
       "1         2018-07     2237.3       335           191.6         48              \n",
       "          2018-08     2237.3       335           168.4         41              \n",
       "          2018-09     2237.3       335           268.1         57              \n",
       "          2018-10     2237.3       335           178.0         40              \n",
       "          2018-11     2237.3       335           187.5         45              \n",
       "\n",
       "                      avg_txn_per_cust  \n",
       "store_nbr year_month                    \n",
       "1         2018-07     1.608955          \n",
       "          2018-08     1.608955          \n",
       "          2018-09     1.608955          \n",
       "          2018-10     1.608955          \n",
       "          2018-11     1.608955          "
      ]
     },
     "execution_count": 20,
     "metadata": {},
     "output_type": "execute_result"
    }
   ],
   "source": [
    "def extract_metrics(df):\n",
    "    subdf = df.loc[:, metrics_cols].set_index(['store_nbr', 'year_month']).sort_values(by = ['store_nbr', 'year_month'])\n",
    "    subdf.drop_duplicates(inplace = True, keep = 'first')\n",
    "    return subdf \n",
    "\n",
    "metrics_df = extract_metrics(pre_df)\n",
    "metrics_df.head()"
   ]
  },
  {
   "cell_type": "code",
   "execution_count": 21,
   "metadata": {
    "execution": {
     "iopub.execute_input": "2020-11-22T07:47:10.204905Z",
     "iopub.status.busy": "2020-11-22T07:47:10.203866Z",
     "iopub.status.idle": "2020-11-22T07:47:10.206629Z",
     "shell.execute_reply": "2020-11-22T07:47:10.207253Z"
    },
    "id": "bmRxJJV5wxIY",
    "papermill": {
     "duration": 0.086183,
     "end_time": "2020-11-22T07:47:10.207436",
     "exception": false,
     "start_time": "2020-11-22T07:47:10.121253",
     "status": "completed"
    },
    "tags": []
   },
   "outputs": [],
   "source": [
    "# metrics_df.xs('2018-09', level=1)"
   ]
  },
  {
   "cell_type": "code",
   "execution_count": 22,
   "metadata": {
    "execution": {
     "iopub.execute_input": "2020-11-22T07:47:10.451394Z",
     "iopub.status.busy": "2020-11-22T07:47:10.450727Z",
     "iopub.status.idle": "2020-11-22T07:47:10.454310Z",
     "shell.execute_reply": "2020-11-22T07:47:10.454863Z"
    },
    "executionInfo": {
     "elapsed": 1023,
     "status": "ok",
     "timestamp": 1605527862302,
     "user": {
      "displayName": "Sourabh S",
      "photoUrl": "",
      "userId": "00212742278029482031"
     },
     "user_tz": -330
    },
    "id": "akrGQK396PE_",
    "outputId": "0c8e14d7-db1f-4bfb-c1fa-60654973a9c4",
    "papermill": {
     "duration": 0.127815,
     "end_time": "2020-11-22T07:47:10.455022",
     "exception": false,
     "start_time": "2020-11-22T07:47:10.327207",
     "status": "completed"
    },
    "tags": []
   },
   "outputs": [],
   "source": [
    "# metrics_df.index.get_level_values('year_month').nunique()"
   ]
  },
  {
   "cell_type": "markdown",
   "metadata": {
    "id": "-Xr4XWYfOg5c",
    "papermill": {
     "duration": 0.079542,
     "end_time": "2020-11-22T07:47:10.615655",
     "exception": false,
     "start_time": "2020-11-22T07:47:10.536113",
     "status": "completed"
    },
    "tags": []
   },
   "source": [
    "Function to find correlation between trial stores and control stores one by one."
   ]
  },
  {
   "cell_type": "code",
   "execution_count": 23,
   "metadata": {
    "execution": {
     "iopub.execute_input": "2020-11-22T07:47:10.786464Z",
     "iopub.status.busy": "2020-11-22T07:47:10.785599Z",
     "iopub.status.idle": "2020-11-22T07:47:10.788887Z",
     "shell.execute_reply": "2020-11-22T07:47:10.788336Z"
    },
    "executionInfo": {
     "elapsed": 1289,
     "status": "ok",
     "timestamp": 1605861391142,
     "user": {
      "displayName": "Sourabh S",
      "photoUrl": "",
      "userId": "00212742278029482031"
     },
     "user_tz": -330
    },
    "id": "HP5WESGR8HkV",
    "papermill": {
     "duration": 0.092652,
     "end_time": "2020-11-22T07:47:10.788982",
     "exception": false,
     "start_time": "2020-11-22T07:47:10.696330",
     "status": "completed"
    },
    "tags": []
   },
   "outputs": [],
   "source": [
    "def calc_corr(trial_store):\n",
    "    '''\n",
    "    input: It takes one trial store to compare other stores with.\n",
    "    output: New dataframe with correlation and mean correlation.\n",
    "    '''\n",
    "    a=[]\n",
    "    metrics = metrics_df[['monthly_sale', 'monthly_custs']] \n",
    "    for i in metrics.index:\n",
    "        a.append(metrics.loc[trial_store].corrwith(metrics.loc[i[0]]))\n",
    "    subdf = pd.DataFrame(a)\n",
    "    subdf.index = metrics.index\n",
    "    subdf = subdf.drop_duplicates()\n",
    "    subdf.index = [s[0] for s in subdf.index]\n",
    "    subdf.index.name =\"store_nbr\"\n",
    "    subdf = subdf.abs()\n",
    "    subdf['mean_corr'] = subdf.mean(axis=1)\n",
    "    subdf.sort_values(by = 'mean_corr', ascending = False, inplace = True)\n",
    "    return subdf"
   ]
  },
  {
   "cell_type": "markdown",
   "metadata": {
    "id": "wox4BlJcO-mS",
    "papermill": {
     "duration": 0.078602,
     "end_time": "2020-11-22T07:47:10.922940",
     "exception": false,
     "start_time": "2020-11-22T07:47:10.844338",
     "status": "completed"
    },
    "tags": []
   },
   "source": [
    "## Correlation with trial store: 77"
   ]
  },
  {
   "cell_type": "code",
   "execution_count": 24,
   "metadata": {
    "execution": {
     "iopub.execute_input": "2020-11-22T07:47:11.095074Z",
     "iopub.status.busy": "2020-11-22T07:47:11.087060Z",
     "iopub.status.idle": "2020-11-22T07:47:27.413465Z",
     "shell.execute_reply": "2020-11-22T07:47:27.413037Z"
    },
    "executionInfo": {
     "elapsed": 18141,
     "status": "ok",
     "timestamp": 1605861411884,
     "user": {
      "displayName": "Sourabh S",
      "photoUrl": "",
      "userId": "00212742278029482031"
     },
     "user_tz": -330
    },
    "id": "fBQsyZU5OO_d",
    "outputId": "c2a2cd4e-ce24-4c28-a206-2e9720164668",
    "papermill": {
     "duration": 16.412112,
     "end_time": "2020-11-22T07:47:27.413551",
     "exception": false,
     "start_time": "2020-11-22T07:47:11.001439",
     "status": "completed"
    },
    "tags": []
   },
   "outputs": [
    {
     "data": {
      "text/html": [
       "<div>\n",
       "<style scoped>\n",
       "    .dataframe tbody tr th:only-of-type {\n",
       "        vertical-align: middle;\n",
       "    }\n",
       "\n",
       "    .dataframe tbody tr th {\n",
       "        vertical-align: top;\n",
       "    }\n",
       "\n",
       "    .dataframe thead th {\n",
       "        text-align: right;\n",
       "    }\n",
       "</style>\n",
       "<table border=\"1\" class=\"dataframe\">\n",
       "  <thead>\n",
       "    <tr style=\"text-align: right;\">\n",
       "      <th></th>\n",
       "      <th>monthly_sale</th>\n",
       "      <th>monthly_custs</th>\n",
       "      <th>mean_corr</th>\n",
       "    </tr>\n",
       "    <tr>\n",
       "      <th>store_nbr</th>\n",
       "      <th></th>\n",
       "      <th></th>\n",
       "      <th></th>\n",
       "    </tr>\n",
       "  </thead>\n",
       "  <tbody>\n",
       "    <tr>\n",
       "      <th>233</th>\n",
       "      <td>0.976651</td>\n",
       "      <td>0.964970</td>\n",
       "      <td>0.970811</td>\n",
       "    </tr>\n",
       "    <tr>\n",
       "      <th>119</th>\n",
       "      <td>0.836712</td>\n",
       "      <td>0.950144</td>\n",
       "      <td>0.893428</td>\n",
       "    </tr>\n",
       "    <tr>\n",
       "      <th>41</th>\n",
       "      <td>0.819951</td>\n",
       "      <td>0.842018</td>\n",
       "      <td>0.830985</td>\n",
       "    </tr>\n",
       "    <tr>\n",
       "      <th>254</th>\n",
       "      <td>0.690476</td>\n",
       "      <td>0.956769</td>\n",
       "      <td>0.823622</td>\n",
       "    </tr>\n",
       "    <tr>\n",
       "      <th>50</th>\n",
       "      <td>0.917940</td>\n",
       "      <td>0.724430</td>\n",
       "      <td>0.821185</td>\n",
       "    </tr>\n",
       "  </tbody>\n",
       "</table>\n",
       "</div>"
      ],
      "text/plain": [
       "           monthly_sale  monthly_custs  mean_corr\n",
       "store_nbr                                        \n",
       "233        0.976651      0.964970       0.970811 \n",
       "119        0.836712      0.950144       0.893428 \n",
       "41         0.819951      0.842018       0.830985 \n",
       "254        0.690476      0.956769       0.823622 \n",
       "50         0.917940      0.724430       0.821185 "
      ]
     },
     "execution_count": 24,
     "metadata": {},
     "output_type": "execute_result"
    }
   ],
   "source": [
    "corr_77 = calc_corr(77).drop(77)\n",
    "# corr_77 = corr_77.drop(77)\n",
    "corr_77.head(5)"
   ]
  },
  {
   "cell_type": "code",
   "execution_count": 25,
   "metadata": {
    "execution": {
     "iopub.execute_input": "2020-11-22T07:47:27.543295Z",
     "iopub.status.busy": "2020-11-22T07:47:27.533509Z",
     "iopub.status.idle": "2020-11-22T07:47:27.832080Z",
     "shell.execute_reply": "2020-11-22T07:47:27.832790Z"
    },
    "executionInfo": {
     "elapsed": 1270,
     "status": "ok",
     "timestamp": 1605861529996,
     "user": {
      "displayName": "Sourabh S",
      "photoUrl": "",
      "userId": "00212742278029482031"
     },
     "user_tz": -330
    },
    "id": "3pikNGS0olbh",
    "outputId": "5cf04cdf-af7a-416a-c3a5-b7ca50e53ff6",
    "papermill": {
     "duration": 0.36337,
     "end_time": "2020-11-22T07:47:27.832970",
     "exception": false,
     "start_time": "2020-11-22T07:47:27.469600",
     "status": "completed"
    },
    "tags": []
   },
   "outputs": [
    {
     "data": {
      "image/png": "[encoded data removed]",
      "text/plain": [
       "<Figure size 1296x576 with 1 Axes>"
      ]
     },
     "metadata": {},
     "output_type": "display_data"
    }
   ],
   "source": [
    "corr_77[corr_77['mean_corr'].abs() > 0.7].plot(kind = 'bar', rot = 0, figsize = (18, 8))\n",
    "plt.title('Correlation of trial store 77 with other stores')\n",
    "plt.xlabel('store Number')\n",
    "plt.ylabel('Correlation Co-efficient')\n",
    "plt.show()"
   ]
  },
  {
   "cell_type": "markdown",
   "metadata": {
    "id": "bdgSPPRsWf18",
    "papermill": {
     "duration": 0.120541,
     "end_time": "2020-11-22T07:47:28.074386",
     "exception": false,
     "start_time": "2020-11-22T07:47:27.953845",
     "status": "completed"
    },
    "tags": []
   },
   "source": [
    "The store '233' with the highest score is selected as the control store for trial store '77'.\n",
    "\n",
    "Now let's quantify how related it is to the trial store by using plots and some stats. Since monthly sales and customers are only parameters we can monitor. Therefore we'll just see these two parameters."
   ]
  },
  {
   "cell_type": "code",
   "execution_count": 26,
   "metadata": {
    "execution": {
     "iopub.execute_input": "2020-11-22T07:47:28.281766Z",
     "iopub.status.busy": "2020-11-22T07:47:28.275586Z",
     "iopub.status.idle": "2020-11-22T07:47:28.495006Z",
     "shell.execute_reply": "2020-11-22T07:47:28.494346Z"
    },
    "executionInfo": {
     "elapsed": 2054,
     "status": "ok",
     "timestamp": 1605861711732,
     "user": {
      "displayName": "Sourabh S",
      "photoUrl": "",
      "userId": "00212742278029482031"
     },
     "user_tz": -330
    },
    "id": "veUQ2iSkvzTt",
    "outputId": "320bc009-b6be-450d-986d-7677e9ff4350",
    "papermill": {
     "duration": 0.327011,
     "end_time": "2020-11-22T07:47:28.495114",
     "exception": false,
     "start_time": "2020-11-22T07:47:28.168103",
     "status": "completed"
    },
    "tags": []
   },
   "outputs": [
    {
     "data": {
      "image/png": "[encoded data removed]",
      "text/plain": [
       "<Figure size 1296x504 with 1 Axes>"
      ]
     },
     "metadata": {},
     "output_type": "display_data"
    }
   ],
   "source": [
    "fig, ax = plt.subplots()\n",
    "sns.distplot(metrics_df.loc[77]['monthly_sale'], color = 'r', ax = ax)\n",
    "sns.distplot(metrics_df.loc[233]['monthly_sale'], color = 'g', ax = ax)\n",
    "plt.legend(labels = ['77', '233'])\n",
    "plt.show()"
   ]
  },
  {
   "cell_type": "markdown",
   "metadata": {
    "id": "PQ4LvklI3YAr",
    "papermill": {
     "duration": 0.081603,
     "end_time": "2020-11-22T07:47:28.658350",
     "exception": false,
     "start_time": "2020-11-22T07:47:28.576747",
     "status": "completed"
    },
    "tags": []
   },
   "source": [
    "From the above plot we can see that there is difference in monthly sale in both the stores."
   ]
  },
  {
   "cell_type": "code",
   "execution_count": 27,
   "metadata": {
    "execution": {
     "iopub.execute_input": "2020-11-22T07:47:28.843536Z",
     "iopub.status.busy": "2020-11-22T07:47:28.832218Z",
     "iopub.status.idle": "2020-11-22T07:47:29.027641Z",
     "shell.execute_reply": "2020-11-22T07:47:29.027159Z"
    },
    "executionInfo": {
     "elapsed": 1786,
     "status": "ok",
     "timestamp": 1605766065361,
     "user": {
      "displayName": "Sourabh S",
      "photoUrl": "",
      "userId": "00212742278029482031"
     },
     "user_tz": -330
    },
    "id": "VtYAQDnfvuPw",
    "outputId": "78ce6cc7-742b-4204-d676-056b6536936a",
    "papermill": {
     "duration": 0.287982,
     "end_time": "2020-11-22T07:47:29.027732",
     "exception": false,
     "start_time": "2020-11-22T07:47:28.739750",
     "status": "completed"
    },
    "tags": []
   },
   "outputs": [
    {
     "data": {
      "image/png": "[encoded data removed]",
      "text/plain": [
       "<Figure size 1296x504 with 1 Axes>"
      ]
     },
     "metadata": {},
     "output_type": "display_data"
    }
   ],
   "source": [
    "metrics_df.loc[77]['monthly_sale'].plot(kind = 'bar', color = 'g')\n",
    "metrics_df.loc[233]['monthly_sale'].plot(kind = 'bar', color = 'r', alpha = 0.5)\n",
    "plt.xticks(rotation = 0)\n",
    "plt.xlabel('Month')\n",
    "plt.ylabel('Monthly Sale')\n",
    "plt.legend(labels = (77, 232))\n",
    "plt.show()"
   ]
  },
  {
   "cell_type": "markdown",
   "metadata": {
    "id": "hEkHI5tM3zLk",
    "papermill": {
     "duration": 0.065491,
     "end_time": "2020-11-22T07:47:29.152090",
     "exception": false,
     "start_time": "2020-11-22T07:47:29.086599",
     "status": "completed"
    },
    "tags": []
   },
   "source": [
    "Even though the monthly sale values are diffrent but we see a similar trend in the sales through out the period."
   ]
  },
  {
   "cell_type": "code",
   "execution_count": 28,
   "metadata": {
    "execution": {
     "iopub.execute_input": "2020-11-22T07:47:29.302011Z",
     "iopub.status.busy": "2020-11-22T07:47:29.296069Z",
     "iopub.status.idle": "2020-11-22T07:47:29.513287Z",
     "shell.execute_reply": "2020-11-22T07:47:29.512682Z"
    },
    "executionInfo": {
     "elapsed": 1973,
     "status": "ok",
     "timestamp": 1605766076775,
     "user": {
      "displayName": "Sourabh S",
      "photoUrl": "",
      "userId": "00212742278029482031"
     },
     "user_tz": -330
    },
    "id": "fS4uujg1cWQO",
    "outputId": "0e8a64ba-62f3-4c38-b66a-d1fdfb251aa1",
    "papermill": {
     "duration": 0.302756,
     "end_time": "2020-11-22T07:47:29.513392",
     "exception": false,
     "start_time": "2020-11-22T07:47:29.210636",
     "status": "completed"
    },
    "tags": []
   },
   "outputs": [
    {
     "data": {
      "image/png": "[encoded data removed]",
      "text/plain": [
       "<Figure size 1296x504 with 1 Axes>"
      ]
     },
     "metadata": {},
     "output_type": "display_data"
    }
   ],
   "source": [
    "fig, ax = plt.subplots()\n",
    "sns.distplot(metrics_df.loc[77]['monthly_custs'], color = 'r', ax = ax)\n",
    "sns.distplot(metrics_df.loc[233]['monthly_custs'], color = 'g', ax = ax)\n",
    "plt.legend(labels = ['77', '233'])\n",
    "plt.show()"
   ]
  },
  {
   "cell_type": "markdown",
   "metadata": {
    "id": "IhPfq5s-6VV7",
    "papermill": {
     "duration": 0.084137,
     "end_time": "2020-11-22T07:47:29.681697",
     "exception": false,
     "start_time": "2020-11-22T07:47:29.597560",
     "status": "completed"
    },
    "tags": []
   },
   "source": [
    "We can see that monthly customers are similar in both the stores."
   ]
  },
  {
   "cell_type": "code",
   "execution_count": 29,
   "metadata": {
    "execution": {
     "iopub.execute_input": "2020-11-22T07:47:29.912578Z",
     "iopub.status.busy": "2020-11-22T07:47:29.900807Z",
     "iopub.status.idle": "2020-11-22T07:47:30.101792Z",
     "shell.execute_reply": "2020-11-22T07:47:30.101211Z"
    },
    "executionInfo": {
     "elapsed": 3527,
     "status": "ok",
     "timestamp": 1605766086345,
     "user": {
      "displayName": "Sourabh S",
      "photoUrl": "",
      "userId": "00212742278029482031"
     },
     "user_tz": -330
    },
    "id": "ge_ufSZp524Z",
    "outputId": "e9a5839d-9e2f-4b60-a9af-2414cb86623d",
    "papermill": {
     "duration": 0.33666,
     "end_time": "2020-11-22T07:47:30.101898",
     "exception": false,
     "start_time": "2020-11-22T07:47:29.765238",
     "status": "completed"
    },
    "tags": []
   },
   "outputs": [
    {
     "data": {
      "image/png": "[encoded data removed]",
      "text/plain": [
       "<Figure size 1296x504 with 1 Axes>"
      ]
     },
     "metadata": {},
     "output_type": "display_data"
    }
   ],
   "source": [
    "metrics_df.loc[77]['monthly_custs'].plot(kind = 'bar', color = 'g')\n",
    "metrics_df.loc[233]['monthly_custs'].plot(kind = 'bar', color = 'r', alpha = 0.5)\n",
    "plt.xticks(rotation = 0)\n",
    "plt.xlabel('Month')\n",
    "plt.ylabel('Monthly Sale')\n",
    "plt.legend(labels = (77, 232))\n",
    "plt.show()"
   ]
  },
  {
   "cell_type": "markdown",
   "metadata": {
    "id": "goI6RQV06oOb",
    "papermill": {
     "duration": 0.085158,
     "end_time": "2020-11-22T07:47:30.272613",
     "exception": false,
     "start_time": "2020-11-22T07:47:30.187455",
     "status": "completed"
    },
    "tags": []
   },
   "source": [
    "Even the trend in the number of customers every month follows a similar trend between the stores."
   ]
  },
  {
   "cell_type": "markdown",
   "metadata": {
    "id": "gmPkMNJ3n2-C",
    "papermill": {
     "duration": 0.085266,
     "end_time": "2020-11-22T07:47:30.442957",
     "exception": false,
     "start_time": "2020-11-22T07:47:30.357691",
     "status": "completed"
    },
    "tags": []
   },
   "source": [
    "Let our null hypothesis be that both the trial store and our selected control store are similar. Now if we want to reject the null hypothesis then we must have pvalue close to zero."
   ]
  },
  {
   "cell_type": "code",
   "execution_count": 30,
   "metadata": {
    "execution": {
     "iopub.execute_input": "2020-11-22T07:47:30.622172Z",
     "iopub.status.busy": "2020-11-22T07:47:30.621276Z",
     "iopub.status.idle": "2020-11-22T07:47:30.624642Z",
     "shell.execute_reply": "2020-11-22T07:47:30.625118Z"
    },
    "id": "e_Rrs_NF7KFw",
    "papermill": {
     "duration": 0.09609,
     "end_time": "2020-11-22T07:47:30.625259",
     "exception": false,
     "start_time": "2020-11-22T07:47:30.529169",
     "status": "completed"
    },
    "tags": []
   },
   "outputs": [],
   "source": [
    "from scipy.stats import ks_2samp,ttest_ind,t"
   ]
  },
  {
   "cell_type": "code",
   "execution_count": 31,
   "metadata": {
    "execution": {
     "iopub.execute_input": "2020-11-22T07:47:30.807340Z",
     "iopub.status.busy": "2020-11-22T07:47:30.806633Z",
     "iopub.status.idle": "2020-11-22T07:47:30.813031Z",
     "shell.execute_reply": "2020-11-22T07:47:30.812329Z"
    },
    "executionInfo": {
     "elapsed": 929,
     "status": "ok",
     "timestamp": 1605766091026,
     "user": {
      "displayName": "Sourabh S",
      "photoUrl": "",
      "userId": "00212742278029482031"
     },
     "user_tz": -330
    },
    "id": "hb0GAB1ZmE6f",
    "outputId": "664fb522-192a-4a27-ac38-4785bd6c4929",
    "papermill": {
     "duration": 0.102875,
     "end_time": "2020-11-22T07:47:30.813151",
     "exception": false,
     "start_time": "2020-11-22T07:47:30.710276",
     "status": "completed"
    },
    "tags": []
   },
   "outputs": [
    {
     "data": {
      "text/html": [
       "<div>\n",
       "<style scoped>\n",
       "    .dataframe tbody tr th:only-of-type {\n",
       "        vertical-align: middle;\n",
       "    }\n",
       "\n",
       "    .dataframe tbody tr th {\n",
       "        vertical-align: top;\n",
       "    }\n",
       "\n",
       "    .dataframe thead th {\n",
       "        text-align: right;\n",
       "    }\n",
       "</style>\n",
       "<table border=\"1\" class=\"dataframe\">\n",
       "  <thead>\n",
       "    <tr style=\"text-align: right;\">\n",
       "      <th></th>\n",
       "      <th></th>\n",
       "      <th>yearly_sale</th>\n",
       "      <th>yearly_custs</th>\n",
       "      <th>monthly_sale</th>\n",
       "      <th>monthly_custs</th>\n",
       "      <th>avg_txn_per_cust</th>\n",
       "    </tr>\n",
       "    <tr>\n",
       "      <th>store_nbr</th>\n",
       "      <th>year_month</th>\n",
       "      <th></th>\n",
       "      <th></th>\n",
       "      <th></th>\n",
       "      <th></th>\n",
       "      <th></th>\n",
       "    </tr>\n",
       "  </thead>\n",
       "  <tbody>\n",
       "    <tr>\n",
       "      <th rowspan=\"2\" valign=\"top\">1</th>\n",
       "      <th>2018-07</th>\n",
       "      <td>2237.3</td>\n",
       "      <td>335</td>\n",
       "      <td>191.6</td>\n",
       "      <td>48</td>\n",
       "      <td>1.608955</td>\n",
       "    </tr>\n",
       "    <tr>\n",
       "      <th>2018-08</th>\n",
       "      <td>2237.3</td>\n",
       "      <td>335</td>\n",
       "      <td>168.4</td>\n",
       "      <td>41</td>\n",
       "      <td>1.608955</td>\n",
       "    </tr>\n",
       "  </tbody>\n",
       "</table>\n",
       "</div>"
      ],
      "text/plain": [
       "                      yearly_sale  yearly_custs  monthly_sale  monthly_custs  \\\n",
       "store_nbr year_month                                                           \n",
       "1         2018-07     2237.3       335           191.6         48              \n",
       "          2018-08     2237.3       335           168.4         41              \n",
       "\n",
       "                      avg_txn_per_cust  \n",
       "store_nbr year_month                    \n",
       "1         2018-07     1.608955          \n",
       "          2018-08     1.608955          "
      ]
     },
     "execution_count": 31,
     "metadata": {},
     "output_type": "execute_result"
    }
   ],
   "source": [
    "metrics_df.head(2)"
   ]
  },
  {
   "cell_type": "code",
   "execution_count": 32,
   "metadata": {
    "execution": {
     "iopub.execute_input": "2020-11-22T07:47:31.007426Z",
     "iopub.status.busy": "2020-11-22T07:47:31.006769Z",
     "iopub.status.idle": "2020-11-22T07:47:31.012050Z",
     "shell.execute_reply": "2020-11-22T07:47:31.011229Z"
    },
    "executionInfo": {
     "elapsed": 2435,
     "status": "ok",
     "timestamp": 1605766097396,
     "user": {
      "displayName": "Sourabh S",
      "photoUrl": "",
      "userId": "00212742278029482031"
     },
     "user_tz": -330
    },
    "id": "Aaiz6v58klJU",
    "outputId": "ffb59ccf-4960-4ae1-be0b-a4425165f2ca",
    "papermill": {
     "duration": 0.112124,
     "end_time": "2020-11-22T07:47:31.012187",
     "exception": false,
     "start_time": "2020-11-22T07:47:30.900063",
     "status": "completed"
    },
    "tags": []
   },
   "outputs": [
    {
     "data": {
      "text/html": [
       "<div>\n",
       "<style scoped>\n",
       "    .dataframe tbody tr th:only-of-type {\n",
       "        vertical-align: middle;\n",
       "    }\n",
       "\n",
       "    .dataframe tbody tr th {\n",
       "        vertical-align: top;\n",
       "    }\n",
       "\n",
       "    .dataframe thead th {\n",
       "        text-align: right;\n",
       "    }\n",
       "</style>\n",
       "<table border=\"1\" class=\"dataframe\">\n",
       "  <thead>\n",
       "    <tr style=\"text-align: right;\">\n",
       "      <th></th>\n",
       "      <th>statistic</th>\n",
       "      <th>pvalue</th>\n",
       "    </tr>\n",
       "  </thead>\n",
       "  <tbody>\n",
       "    <tr>\n",
       "      <th>monthly_sale</th>\n",
       "      <td>0.285714</td>\n",
       "      <td>0.962704</td>\n",
       "    </tr>\n",
       "    <tr>\n",
       "      <th>monthly_custs</th>\n",
       "      <td>0.285714</td>\n",
       "      <td>0.962704</td>\n",
       "    </tr>\n",
       "  </tbody>\n",
       "</table>\n",
       "</div>"
      ],
      "text/plain": [
       "               statistic    pvalue\n",
       "monthly_sale   0.285714   0.962704\n",
       "monthly_custs  0.285714   0.962704"
      ]
     },
     "execution_count": 32,
     "metadata": {},
     "output_type": "execute_result"
    }
   ],
   "source": [
    "cols_under_consideration = ['monthly_sale', 'monthly_custs']\n",
    "a=[]\n",
    "for x in metrics_df[cols_under_consideration]:\n",
    "    a.append(ks_2samp(metrics_df.loc[77][x], metrics_df.loc[233][x]))\n",
    "a=pd.DataFrame(a, index = cols_under_consideration)\n",
    "a.head()"
   ]
  },
  {
   "cell_type": "markdown",
   "metadata": {
    "id": "0quJT0fwoWeX",
    "papermill": {
     "duration": 0.129142,
     "end_time": "2020-11-22T07:47:31.272922",
     "exception": false,
     "start_time": "2020-11-22T07:47:31.143780",
     "status": "completed"
    },
    "tags": []
   },
   "source": [
    "From the dataframe above we can say that both are similar (pvalues are high close to 1). Hence we cannot reject our null hypothesis."
   ]
  },
  {
   "cell_type": "markdown",
   "metadata": {
    "id": "WHa-iD-pHvtK",
    "papermill": {
     "duration": 0.092017,
     "end_time": "2020-11-22T07:47:31.495965",
     "exception": false,
     "start_time": "2020-11-22T07:47:31.403948",
     "status": "completed"
    },
    "tags": []
   },
   "source": [
    "Assessment of Trial.\n",
    "\n",
    "Now we'll compare the trial store with the control store in the trial period i.e. from Febraury 2019 to April 2019."
   ]
  },
  {
   "cell_type": "code",
   "execution_count": 33,
   "metadata": {
    "execution": {
     "iopub.execute_input": "2020-11-22T07:47:31.682741Z",
     "iopub.status.busy": "2020-11-22T07:47:31.681938Z",
     "iopub.status.idle": "2020-11-22T07:47:31.704326Z",
     "shell.execute_reply": "2020-11-22T07:47:31.703807Z"
    },
    "executionInfo": {
     "elapsed": 2325,
     "status": "ok",
     "timestamp": 1605766339800,
     "user": {
      "displayName": "Sourabh S",
      "photoUrl": "",
      "userId": "00212742278029482031"
     },
     "user_tz": -330
    },
    "id": "Fcn3UzM4IUO2",
    "outputId": "a9f7bb88-118f-403f-8b78-961344a372ff",
    "papermill": {
     "duration": 0.118124,
     "end_time": "2020-11-22T07:47:31.704472",
     "exception": false,
     "start_time": "2020-11-22T07:47:31.586348",
     "status": "completed"
    },
    "tags": []
   },
   "outputs": [
    {
     "data": {
      "text/html": [
       "<div>\n",
       "<style scoped>\n",
       "    .dataframe tbody tr th:only-of-type {\n",
       "        vertical-align: middle;\n",
       "    }\n",
       "\n",
       "    .dataframe tbody tr th {\n",
       "        vertical-align: top;\n",
       "    }\n",
       "\n",
       "    .dataframe thead th {\n",
       "        text-align: right;\n",
       "    }\n",
       "</style>\n",
       "<table border=\"1\" class=\"dataframe\">\n",
       "  <thead>\n",
       "    <tr style=\"text-align: right;\">\n",
       "      <th></th>\n",
       "      <th></th>\n",
       "      <th>yearly_sale</th>\n",
       "      <th>yearly_custs</th>\n",
       "      <th>monthly_sale</th>\n",
       "      <th>monthly_custs</th>\n",
       "      <th>avg_txn_per_cust</th>\n",
       "    </tr>\n",
       "    <tr>\n",
       "      <th>store_nbr</th>\n",
       "      <th>year_month</th>\n",
       "      <th></th>\n",
       "      <th></th>\n",
       "      <th></th>\n",
       "      <th></th>\n",
       "      <th></th>\n",
       "    </tr>\n",
       "  </thead>\n",
       "  <tbody>\n",
       "    <tr>\n",
       "      <th rowspan=\"3\" valign=\"top\">1</th>\n",
       "      <th>2019-02</th>\n",
       "      <td>2237.3</td>\n",
       "      <td>335</td>\n",
       "      <td>194.7</td>\n",
       "      <td>49</td>\n",
       "      <td>1.608955</td>\n",
       "    </tr>\n",
       "    <tr>\n",
       "      <th>2019-03</th>\n",
       "      <td>2237.3</td>\n",
       "      <td>335</td>\n",
       "      <td>185.2</td>\n",
       "      <td>43</td>\n",
       "      <td>1.608955</td>\n",
       "    </tr>\n",
       "    <tr>\n",
       "      <th>2019-04</th>\n",
       "      <td>2237.3</td>\n",
       "      <td>335</td>\n",
       "      <td>177.4</td>\n",
       "      <td>39</td>\n",
       "      <td>1.608955</td>\n",
       "    </tr>\n",
       "    <tr>\n",
       "      <th rowspan=\"2\" valign=\"top\">2</th>\n",
       "      <th>2019-02</th>\n",
       "      <td>1885.9</td>\n",
       "      <td>302</td>\n",
       "      <td>136.8</td>\n",
       "      <td>28</td>\n",
       "      <td>1.576159</td>\n",
       "    </tr>\n",
       "    <tr>\n",
       "      <th>2019-03</th>\n",
       "      <td>1885.9</td>\n",
       "      <td>302</td>\n",
       "      <td>179.3</td>\n",
       "      <td>41</td>\n",
       "      <td>1.576159</td>\n",
       "    </tr>\n",
       "  </tbody>\n",
       "</table>\n",
       "</div>"
      ],
      "text/plain": [
       "                      yearly_sale  yearly_custs  monthly_sale  monthly_custs  \\\n",
       "store_nbr year_month                                                           \n",
       "1         2019-02     2237.3       335           194.7         49              \n",
       "          2019-03     2237.3       335           185.2         43              \n",
       "          2019-04     2237.3       335           177.4         39              \n",
       "2         2019-02     1885.9       302           136.8         28              \n",
       "          2019-03     1885.9       302           179.3         41              \n",
       "\n",
       "                      avg_txn_per_cust  \n",
       "store_nbr year_month                    \n",
       "1         2019-02     1.608955          \n",
       "          2019-03     1.608955          \n",
       "          2019-04     1.608955          \n",
       "2         2019-02     1.576159          \n",
       "          2019-03     1.576159          "
      ]
     },
     "execution_count": 33,
     "metadata": {},
     "output_type": "execute_result"
    }
   ],
   "source": [
    "trial_metrics_df = extract_metrics(trial_df)\n",
    "trial_metrics_df.head()"
   ]
  },
  {
   "cell_type": "code",
   "execution_count": 34,
   "metadata": {
    "execution": {
     "iopub.execute_input": "2020-11-22T07:47:31.896302Z",
     "iopub.status.busy": "2020-11-22T07:47:31.889810Z",
     "iopub.status.idle": "2020-11-22T07:47:31.901736Z",
     "shell.execute_reply": "2020-11-22T07:47:31.901074Z"
    },
    "executionInfo": {
     "elapsed": 1800,
     "status": "ok",
     "timestamp": 1605766503954,
     "user": {
      "displayName": "Sourabh S",
      "photoUrl": "",
      "userId": "00212742278029482031"
     },
     "user_tz": -330
    },
    "id": "Y2FRi8RzAP7X",
    "outputId": "26c7adc0-b0b8-467f-efe2-162c020d1467",
    "papermill": {
     "duration": 0.108863,
     "end_time": "2020-11-22T07:47:31.901843",
     "exception": false,
     "start_time": "2020-11-22T07:47:31.792980",
     "status": "completed"
    },
    "tags": []
   },
   "outputs": [
    {
     "data": {
      "text/html": [
       "<div>\n",
       "<style scoped>\n",
       "    .dataframe tbody tr th:only-of-type {\n",
       "        vertical-align: middle;\n",
       "    }\n",
       "\n",
       "    .dataframe tbody tr th {\n",
       "        vertical-align: top;\n",
       "    }\n",
       "\n",
       "    .dataframe thead th {\n",
       "        text-align: right;\n",
       "    }\n",
       "</style>\n",
       "<table border=\"1\" class=\"dataframe\">\n",
       "  <thead>\n",
       "    <tr style=\"text-align: right;\">\n",
       "      <th></th>\n",
       "      <th>statistic</th>\n",
       "      <th>pvalue</th>\n",
       "    </tr>\n",
       "  </thead>\n",
       "  <tbody>\n",
       "    <tr>\n",
       "      <th>monthly_sale</th>\n",
       "      <td>0.666667</td>\n",
       "      <td>0.6</td>\n",
       "    </tr>\n",
       "    <tr>\n",
       "      <th>monthly_custs</th>\n",
       "      <td>0.666667</td>\n",
       "      <td>0.6</td>\n",
       "    </tr>\n",
       "  </tbody>\n",
       "</table>\n",
       "</div>"
      ],
      "text/plain": [
       "               statistic  pvalue\n",
       "monthly_sale   0.666667   0.6   \n",
       "monthly_custs  0.666667   0.6   "
      ]
     },
     "execution_count": 34,
     "metadata": {},
     "output_type": "execute_result"
    }
   ],
   "source": [
    "b = []\n",
    "for x in trial_metrics_df[cols_under_consideration]:\n",
    "    b.append(ks_2samp(trial_metrics_df.loc[77][x], trial_metrics_df.loc[233][x]))\n",
    "b = pd.DataFrame(b, index = cols_under_consideration)\n",
    "b.head()"
   ]
  },
  {
   "cell_type": "markdown",
   "metadata": {
    "id": "IgUwglTSKQ_l",
    "papermill": {
     "duration": 0.088078,
     "end_time": "2020-11-22T07:47:32.080639",
     "exception": false,
     "start_time": "2020-11-22T07:47:31.992561",
     "status": "completed"
    },
    "tags": []
   },
   "source": [
    "Since both the pvalues are >5 we reject the null hypothesis. Since both the stores are similar in pre-trial but not in trial period hence we reject the null hypothesis."
   ]
  },
  {
   "cell_type": "markdown",
   "metadata": {
    "id": "r4j7O1kCLeqA",
    "papermill": {
     "duration": 0.087256,
     "end_time": "2020-11-22T07:47:32.256798",
     "exception": false,
     "start_time": "2020-11-22T07:47:32.169542",
     "status": "completed"
    },
    "tags": []
   },
   "source": [
    "Comparing each T-Value with 95% percentage significance critical t-value of 6 degrees of freedom (7 months of sample - 1)"
   ]
  },
  {
   "cell_type": "code",
   "execution_count": 35,
   "metadata": {
    "execution": {
     "iopub.execute_input": "2020-11-22T07:47:32.446874Z",
     "iopub.status.busy": "2020-11-22T07:47:32.446170Z",
     "iopub.status.idle": "2020-11-22T07:47:32.452636Z",
     "shell.execute_reply": "2020-11-22T07:47:32.452095Z"
    },
    "executionInfo": {
     "elapsed": 1251,
     "status": "ok",
     "timestamp": 1605767283746,
     "user": {
      "displayName": "Sourabh S",
      "photoUrl": "",
      "userId": "00212742278029482031"
     },
     "user_tz": -330
    },
    "id": "egJdpEUnLDnH",
    "outputId": "41508646-af2c-4258-94d4-fe71485bde78",
    "papermill": {
     "duration": 0.102373,
     "end_time": "2020-11-22T07:47:32.452750",
     "exception": false,
     "start_time": "2020-11-22T07:47:32.350377",
     "status": "completed"
    },
    "tags": []
   },
   "outputs": [
    {
     "name": "stdout",
     "output_type": "stream",
     "text": [
      "critical t-value for 95% confidence level:\n"
     ]
    },
    {
     "data": {
      "text/plain": [
       "1.9431802803927816"
      ]
     },
     "execution_count": 35,
     "metadata": {},
     "output_type": "execute_result"
    }
   ],
   "source": [
    "print('critical t-value for 95% confidence level:')\n",
    "t.ppf(0.95, 6)"
   ]
  },
  {
   "cell_type": "markdown",
   "metadata": {
    "id": "kyFprWMzMRFs",
    "papermill": {
     "duration": 0.088751,
     "end_time": "2020-11-22T07:47:32.630523",
     "exception": false,
     "start_time": "2020-11-22T07:47:32.541772",
     "status": "completed"
    },
    "tags": []
   },
   "source": [
    "We can see that t-value is greater than 95 percentile for febraury to april.\n",
    "\n",
    "Therefore we can say that there was increase in sale in trial store than the control store during the trial period."
   ]
  },
  {
   "cell_type": "markdown",
   "metadata": {
    "id": "RVzlMYW3NCt5",
    "papermill": {
     "duration": 0.087709,
     "end_time": "2020-11-22T07:47:32.806342",
     "exception": false,
     "start_time": "2020-11-22T07:47:32.718633",
     "status": "completed"
    },
    "tags": []
   },
   "source": [
    "Let's plot the means for both the stores in trial period."
   ]
  },
  {
   "cell_type": "code",
   "execution_count": 36,
   "metadata": {
    "execution": {
     "iopub.execute_input": "2020-11-22T07:47:32.997775Z",
     "iopub.status.busy": "2020-11-22T07:47:32.994361Z",
     "iopub.status.idle": "2020-11-22T07:47:33.200906Z",
     "shell.execute_reply": "2020-11-22T07:47:33.201445Z"
    },
    "executionInfo": {
     "elapsed": 1565,
     "status": "ok",
     "timestamp": 1605767654784,
     "user": {
      "displayName": "Sourabh S",
      "photoUrl": "",
      "userId": "00212742278029482031"
     },
     "user_tz": -330
    },
    "id": "EWR83aODNKLh",
    "outputId": "77772cea-1b3d-416e-909b-97728f570043",
    "papermill": {
     "duration": 0.306767,
     "end_time": "2020-11-22T07:47:33.201591",
     "exception": false,
     "start_time": "2020-11-22T07:47:32.894824",
     "status": "completed"
    },
    "tags": []
   },
   "outputs": [
    {
     "data": {
      "text/plain": [
       "<matplotlib.legend.Legend at 0x7f930ee72d10>"
      ]
     },
     "execution_count": 36,
     "metadata": {},
     "output_type": "execute_result"
    },
    {
     "data": {
      "image/png": "[encoded data removed]",
      "text/plain": [
       "<Figure size 1296x504 with 1 Axes>"
      ]
     },
     "metadata": {},
     "output_type": "display_data"
    }
   ],
   "source": [
    "sns.distplot(trial_metrics_df.loc[77]['monthly_sale'])\n",
    "sns.distplot(trial_metrics_df.loc[233]['monthly_sale'])\n",
    "plt.legend(labels=['77','233'])"
   ]
  },
  {
   "cell_type": "code",
   "execution_count": 37,
   "metadata": {
    "execution": {
     "iopub.execute_input": "2020-11-22T07:47:33.398781Z",
     "iopub.status.busy": "2020-11-22T07:47:33.393950Z",
     "iopub.status.idle": "2020-11-22T07:47:33.603286Z",
     "shell.execute_reply": "2020-11-22T07:47:33.602770Z"
    },
    "executionInfo": {
     "elapsed": 1460,
     "status": "ok",
     "timestamp": 1605767795433,
     "user": {
      "displayName": "Sourabh S",
      "photoUrl": "",
      "userId": "00212742278029482031"
     },
     "user_tz": -330
    },
    "id": "avPOVylFN9K3",
    "outputId": "d1438d62-aa26-44f8-ae8d-dcc006b99c68",
    "papermill": {
     "duration": 0.308832,
     "end_time": "2020-11-22T07:47:33.603419",
     "exception": false,
     "start_time": "2020-11-22T07:47:33.294587",
     "status": "completed"
    },
    "tags": []
   },
   "outputs": [
    {
     "data": {
      "text/plain": [
       "<matplotlib.legend.Legend at 0x7f930ec1af50>"
      ]
     },
     "execution_count": 37,
     "metadata": {},
     "output_type": "execute_result"
    },
    {
     "data": {
      "image/png": "[encoded data removed]",
      "text/plain": [
       "<Figure size 1296x504 with 1 Axes>"
      ]
     },
     "metadata": {},
     "output_type": "display_data"
    }
   ],
   "source": [
    "sns.distplot(trial_metrics_df.loc[77]['monthly_custs'])\n",
    "sns.distplot(trial_metrics_df.loc[233]['monthly_custs'])\n",
    "plt.legend(labels=['77','233'])"
   ]
  },
  {
   "cell_type": "markdown",
   "metadata": {
    "id": "auUp0jVNOPaN",
    "papermill": {
     "duration": 0.091447,
     "end_time": "2020-11-22T07:47:33.786690",
     "exception": false,
     "start_time": "2020-11-22T07:47:33.695243",
     "status": "completed"
    },
    "tags": []
   },
   "source": [
    "We can see that the distribution of monthly sale and monthly customers of both the stores in the trial period is much different than the distribution of monthly sale and monthly customers in pre-trial period."
   ]
  },
  {
   "cell_type": "markdown",
   "metadata": {
    "id": "nM17TQUtOlxV",
    "papermill": {
     "duration": 0.092694,
     "end_time": "2020-11-22T07:47:33.971847",
     "exception": false,
     "start_time": "2020-11-22T07:47:33.879153",
     "status": "completed"
    },
    "tags": []
   },
   "source": [
    "The results show that the trial store 77 is significantly different to its control store in the trial period as the trial store performance lies outside the 5% to 95% confidence interval of the control store in two of the three trial months."
   ]
  },
  {
   "cell_type": "markdown",
   "metadata": {
    "id": "6DLVls47OsnX",
    "papermill": {
     "duration": 0.097484,
     "end_time": "2020-11-22T07:47:34.161285",
     "exception": false,
     "start_time": "2020-11-22T07:47:34.063801",
     "status": "completed"
    },
    "tags": []
   },
   "source": [
    "We can also see that there is significant increase in sales of chips in trial stores in the trial period."
   ]
  },
  {
   "cell_type": "markdown",
   "metadata": {
    "id": "ELG07xwhPEld",
    "papermill": {
     "duration": 0.138371,
     "end_time": "2020-11-22T07:47:34.436905",
     "exception": false,
     "start_time": "2020-11-22T07:47:34.298534",
     "status": "completed"
    },
    "tags": []
   },
   "source": [
    "## Correlation with trial store: 86"
   ]
  },
  {
   "cell_type": "code",
   "execution_count": 38,
   "metadata": {
    "execution": {
     "iopub.execute_input": "2020-11-22T07:47:34.754918Z",
     "iopub.status.busy": "2020-11-22T07:47:34.732644Z",
     "iopub.status.idle": "2020-11-22T07:47:54.165344Z",
     "shell.execute_reply": "2020-11-22T07:47:54.164473Z"
    },
    "executionInfo": {
     "elapsed": 18576,
     "status": "ok",
     "timestamp": 1605862037302,
     "user": {
      "displayName": "Sourabh S",
      "photoUrl": "",
      "userId": "00212742278029482031"
     },
     "user_tz": -330
    },
    "id": "WDR_MEZWPPwx",
    "outputId": "60810f5f-4cbf-4a9a-886d-6a4418036d46",
    "papermill": {
     "duration": 19.592948,
     "end_time": "2020-11-22T07:47:54.165521",
     "exception": false,
     "start_time": "2020-11-22T07:47:34.572573",
     "status": "completed"
    },
    "tags": []
   },
   "outputs": [
    {
     "data": {
      "text/html": [
       "<div>\n",
       "<style scoped>\n",
       "    .dataframe tbody tr th:only-of-type {\n",
       "        vertical-align: middle;\n",
       "    }\n",
       "\n",
       "    .dataframe tbody tr th {\n",
       "        vertical-align: top;\n",
       "    }\n",
       "\n",
       "    .dataframe thead th {\n",
       "        text-align: right;\n",
       "    }\n",
       "</style>\n",
       "<table border=\"1\" class=\"dataframe\">\n",
       "  <thead>\n",
       "    <tr style=\"text-align: right;\">\n",
       "      <th></th>\n",
       "      <th>monthly_sale</th>\n",
       "      <th>monthly_custs</th>\n",
       "      <th>mean_corr</th>\n",
       "    </tr>\n",
       "    <tr>\n",
       "      <th>store_nbr</th>\n",
       "      <th></th>\n",
       "      <th></th>\n",
       "      <th></th>\n",
       "    </tr>\n",
       "  </thead>\n",
       "  <tbody>\n",
       "    <tr>\n",
       "      <th>155</th>\n",
       "      <td>0.852169</td>\n",
       "      <td>0.824667</td>\n",
       "      <td>0.838418</td>\n",
       "    </tr>\n",
       "    <tr>\n",
       "      <th>114</th>\n",
       "      <td>0.797520</td>\n",
       "      <td>0.875624</td>\n",
       "      <td>0.836572</td>\n",
       "    </tr>\n",
       "    <tr>\n",
       "      <th>260</th>\n",
       "      <td>0.851237</td>\n",
       "      <td>0.805041</td>\n",
       "      <td>0.828139</td>\n",
       "    </tr>\n",
       "    <tr>\n",
       "      <th>56</th>\n",
       "      <td>0.795140</td>\n",
       "      <td>0.799344</td>\n",
       "      <td>0.797242</td>\n",
       "    </tr>\n",
       "    <tr>\n",
       "      <th>120</th>\n",
       "      <td>0.891578</td>\n",
       "      <td>0.606359</td>\n",
       "      <td>0.748968</td>\n",
       "    </tr>\n",
       "  </tbody>\n",
       "</table>\n",
       "</div>"
      ],
      "text/plain": [
       "           monthly_sale  monthly_custs  mean_corr\n",
       "store_nbr                                        \n",
       "155        0.852169      0.824667       0.838418 \n",
       "114        0.797520      0.875624       0.836572 \n",
       "260        0.851237      0.805041       0.828139 \n",
       "56         0.795140      0.799344       0.797242 \n",
       "120        0.891578      0.606359       0.748968 "
      ]
     },
     "execution_count": 38,
     "metadata": {},
     "output_type": "execute_result"
    }
   ],
   "source": [
    "corr_86 = calc_corr(86).drop(86)\n",
    "corr_86.head()"
   ]
  },
  {
   "cell_type": "code",
   "execution_count": 39,
   "metadata": {
    "execution": {
     "iopub.execute_input": "2020-11-22T07:47:54.377182Z",
     "iopub.status.busy": "2020-11-22T07:47:54.376542Z",
     "iopub.status.idle": "2020-11-22T07:47:54.604240Z",
     "shell.execute_reply": "2020-11-22T07:47:54.603612Z"
    },
    "executionInfo": {
     "elapsed": 1328,
     "status": "ok",
     "timestamp": 1605862101720,
     "user": {
      "displayName": "Sourabh S",
      "photoUrl": "",
      "userId": "00212742278029482031"
     },
     "user_tz": -330
    },
    "id": "QhSq4dP0i37U",
    "outputId": "0606dd5e-5f1f-4c14-81b8-9d564ebfb0cb",
    "papermill": {
     "duration": 0.342738,
     "end_time": "2020-11-22T07:47:54.604349",
     "exception": false,
     "start_time": "2020-11-22T07:47:54.261611",
     "status": "completed"
    },
    "tags": []
   },
   "outputs": [
    {
     "data": {
      "image/png": "[encoded data removed]",
      "text/plain": [
       "<Figure size 1296x576 with 1 Axes>"
      ]
     },
     "metadata": {},
     "output_type": "display_data"
    }
   ],
   "source": [
    "corr_86[corr_86['mean_corr'].abs() > 0.7].plot(kind = 'bar', rot = 0, figsize = (18, 8))\n",
    "plt.title('Correlation of trial store 86 with other stores')\n",
    "plt.xlabel('store Number')\n",
    "plt.ylabel('Correlation Co-efficient')\n",
    "plt.show()"
   ]
  },
  {
   "cell_type": "markdown",
   "metadata": {
    "id": "BoOz4_D_QO_i",
    "papermill": {
     "duration": 0.094189,
     "end_time": "2020-11-22T07:47:54.792277",
     "exception": false,
     "start_time": "2020-11-22T07:47:54.698088",
     "status": "completed"
    },
    "tags": []
   },
   "source": [
    "The store '155' with the highest score is selected as the control store for trial store '86'.\n",
    "\n",
    "Now let's quantify how related it is to the trial store by using plots and some stats. Since monthly sales and customers are only parameters we can monitor. Therefore we'll just see these two parameters."
   ]
  },
  {
   "cell_type": "code",
   "execution_count": 40,
   "metadata": {
    "execution": {
     "iopub.execute_input": "2020-11-22T07:47:54.989795Z",
     "iopub.status.busy": "2020-11-22T07:47:54.989004Z",
     "iopub.status.idle": "2020-11-22T07:47:55.258619Z",
     "shell.execute_reply": "2020-11-22T07:47:55.258009Z"
    },
    "executionInfo": {
     "elapsed": 1428,
     "status": "ok",
     "timestamp": 1605768525760,
     "user": {
      "displayName": "Sourabh S",
      "photoUrl": "",
      "userId": "00212742278029482031"
     },
     "user_tz": -330
    },
    "id": "8HeBRJXZQO_j",
    "outputId": "b8774e5e-a258-4fef-a9cc-747d8887370d",
    "papermill": {
     "duration": 0.372589,
     "end_time": "2020-11-22T07:47:55.258734",
     "exception": false,
     "start_time": "2020-11-22T07:47:54.886145",
     "status": "completed"
    },
    "tags": []
   },
   "outputs": [
    {
     "data": {
      "image/png": "[encoded data removed]",
      "text/plain": [
       "<Figure size 1296x504 with 1 Axes>"
      ]
     },
     "metadata": {},
     "output_type": "display_data"
    }
   ],
   "source": [
    "fig, ax = plt.subplots()\n",
    "sns.distplot(metrics_df.loc[86]['monthly_sale'], color = 'r', ax = ax)\n",
    "sns.distplot(metrics_df.loc[155]['monthly_sale'], color = 'g', ax = ax)\n",
    "plt.legend(labels = ['86', '155'])\n",
    "plt.show()"
   ]
  },
  {
   "cell_type": "markdown",
   "metadata": {
    "id": "_mWdSAc9QO_m",
    "papermill": {
     "duration": 0.098059,
     "end_time": "2020-11-22T07:47:55.465091",
     "exception": false,
     "start_time": "2020-11-22T07:47:55.367032",
     "status": "completed"
    },
    "tags": []
   },
   "source": [
    "From the above plot we can see that there is difference in monthly sale in both the stores. But on avarage both the stores are similar."
   ]
  },
  {
   "cell_type": "code",
   "execution_count": 41,
   "metadata": {
    "execution": {
     "iopub.execute_input": "2020-11-22T07:47:55.692542Z",
     "iopub.status.busy": "2020-11-22T07:47:55.686386Z",
     "iopub.status.idle": "2020-11-22T07:47:55.896636Z",
     "shell.execute_reply": "2020-11-22T07:47:55.895935Z"
    },
    "executionInfo": {
     "elapsed": 3178,
     "status": "ok",
     "timestamp": 1605768593038,
     "user": {
      "displayName": "Sourabh S",
      "photoUrl": "",
      "userId": "00212742278029482031"
     },
     "user_tz": -330
    },
    "id": "Pb-LE8yIQO_n",
    "outputId": "3200f4ec-8897-4a53-a2c8-3108f7a379ef",
    "papermill": {
     "duration": 0.322686,
     "end_time": "2020-11-22T07:47:55.896760",
     "exception": false,
     "start_time": "2020-11-22T07:47:55.574074",
     "status": "completed"
    },
    "tags": []
   },
   "outputs": [
    {
     "data": {
      "image/png": "[encoded data removed]",
      "text/plain": [
       "<Figure size 1296x504 with 1 Axes>"
      ]
     },
     "metadata": {},
     "output_type": "display_data"
    }
   ],
   "source": [
    "metrics_df.loc[86]['monthly_sale'].plot(kind = 'bar', color = 'g')\n",
    "metrics_df.loc[155]['monthly_sale'].plot(kind = 'bar', color = 'r', alpha = 0.5)\n",
    "plt.xticks(rotation = 0)\n",
    "plt.xlabel('Month')\n",
    "plt.ylabel('Monthly Sale')\n",
    "plt.legend(labels = (86, 155))\n",
    "plt.show()"
   ]
  },
  {
   "cell_type": "markdown",
   "metadata": {
    "id": "zwErd2s6QO_n",
    "papermill": {
     "duration": 0.096552,
     "end_time": "2020-11-22T07:47:56.090115",
     "exception": false,
     "start_time": "2020-11-22T07:47:55.993563",
     "status": "completed"
    },
    "tags": []
   },
   "source": [
    "Even though the monthly sale values are diffrent but we see a similar trend in the sales through out the period."
   ]
  },
  {
   "cell_type": "code",
   "execution_count": 42,
   "metadata": {
    "execution": {
     "iopub.execute_input": "2020-11-22T07:47:56.295853Z",
     "iopub.status.busy": "2020-11-22T07:47:56.285900Z",
     "iopub.status.idle": "2020-11-22T07:47:56.518202Z",
     "shell.execute_reply": "2020-11-22T07:47:56.517552Z"
    },
    "executionInfo": {
     "elapsed": 1227,
     "status": "ok",
     "timestamp": 1605768627209,
     "user": {
      "displayName": "Sourabh S",
      "photoUrl": "",
      "userId": "00212742278029482031"
     },
     "user_tz": -330
    },
    "id": "Yls99WAtQO_n",
    "outputId": "3645cf54-e15e-4594-fca9-159f067b2060",
    "papermill": {
     "duration": 0.329226,
     "end_time": "2020-11-22T07:47:56.518310",
     "exception": false,
     "start_time": "2020-11-22T07:47:56.189084",
     "status": "completed"
    },
    "tags": []
   },
   "outputs": [
    {
     "data": {
      "image/png": "[encoded data removed]",
      "text/plain": [
       "<Figure size 1296x504 with 1 Axes>"
      ]
     },
     "metadata": {},
     "output_type": "display_data"
    }
   ],
   "source": [
    "fig, ax = plt.subplots()\n",
    "sns.distplot(metrics_df.loc[86]['monthly_custs'], color = 'r', ax = ax)\n",
    "sns.distplot(metrics_df.loc[155]['monthly_custs'], color = 'g', ax = ax)\n",
    "plt.legend(labels = ['86', '155'])\n",
    "plt.show()"
   ]
  },
  {
   "cell_type": "markdown",
   "metadata": {
    "id": "TBHLJffEQO_n",
    "papermill": {
     "duration": 0.098213,
     "end_time": "2020-11-22T07:47:56.715590",
     "exception": false,
     "start_time": "2020-11-22T07:47:56.617377",
     "status": "completed"
    },
    "tags": []
   },
   "source": [
    "We can see that monthly customers are similar in both the stores."
   ]
  },
  {
   "cell_type": "code",
   "execution_count": 43,
   "metadata": {
    "execution": {
     "iopub.execute_input": "2020-11-22T07:47:56.937302Z",
     "iopub.status.busy": "2020-11-22T07:47:56.935681Z",
     "iopub.status.idle": "2020-11-22T07:47:57.127656Z",
     "shell.execute_reply": "2020-11-22T07:47:57.128303Z"
    },
    "executionInfo": {
     "elapsed": 1252,
     "status": "ok",
     "timestamp": 1605768699383,
     "user": {
      "displayName": "Sourabh S",
      "photoUrl": "",
      "userId": "00212742278029482031"
     },
     "user_tz": -330
    },
    "id": "xpHmH_oKQO_o",
    "outputId": "42c76e5e-63cb-4505-d00e-7adffb49a960",
    "papermill": {
     "duration": 0.314942,
     "end_time": "2020-11-22T07:47:57.128494",
     "exception": false,
     "start_time": "2020-11-22T07:47:56.813552",
     "status": "completed"
    },
    "tags": []
   },
   "outputs": [
    {
     "data": {
      "image/png": "[encoded data removed]",
      "text/plain": [
       "<Figure size 1296x504 with 1 Axes>"
      ]
     },
     "metadata": {},
     "output_type": "display_data"
    }
   ],
   "source": [
    "metrics_df.loc[86]['monthly_custs'].plot(kind = 'bar', color = 'g')\n",
    "metrics_df.loc[155]['monthly_custs'].plot(kind = 'bar', color = 'r', alpha = 0.5)\n",
    "plt.xticks(rotation = 0)\n",
    "plt.xlabel('Month')\n",
    "plt.ylabel('Monthly Sale')\n",
    "plt.legend(labels = (86, 155))\n",
    "plt.show()"
   ]
  },
  {
   "cell_type": "markdown",
   "metadata": {
    "id": "I4lKE1GpQO_o",
    "papermill": {
     "duration": 0.10563,
     "end_time": "2020-11-22T07:47:57.381171",
     "exception": false,
     "start_time": "2020-11-22T07:47:57.275541",
     "status": "completed"
    },
    "tags": []
   },
   "source": [
    "Even the trend in the number of customers every month follows a similar trend between the stores."
   ]
  },
  {
   "cell_type": "markdown",
   "metadata": {
    "id": "qJOXVbPeQO_o",
    "papermill": {
     "duration": 0.108438,
     "end_time": "2020-11-22T07:47:57.591640",
     "exception": false,
     "start_time": "2020-11-22T07:47:57.483202",
     "status": "completed"
    },
    "tags": []
   },
   "source": [
    "Let our null hypothesis be that both the trial store and our selected control store are similar. Now if we want to reject the null hypothesis then we must have pvalue close to zero."
   ]
  },
  {
   "cell_type": "code",
   "execution_count": 44,
   "metadata": {
    "execution": {
     "iopub.execute_input": "2020-11-22T07:47:57.829269Z",
     "iopub.status.busy": "2020-11-22T07:47:57.819242Z",
     "iopub.status.idle": "2020-11-22T07:47:57.835670Z",
     "shell.execute_reply": "2020-11-22T07:47:57.834814Z"
    },
    "executionInfo": {
     "elapsed": 1025,
     "status": "ok",
     "timestamp": 1605768740738,
     "user": {
      "displayName": "Sourabh S",
      "photoUrl": "",
      "userId": "00212742278029482031"
     },
     "user_tz": -330
    },
    "id": "0t8Gy8kdQO_o",
    "outputId": "d60671a1-3071-4e5b-e576-d7501d256730",
    "papermill": {
     "duration": 0.142254,
     "end_time": "2020-11-22T07:47:57.835819",
     "exception": false,
     "start_time": "2020-11-22T07:47:57.693565",
     "status": "completed"
    },
    "tags": []
   },
   "outputs": [
    {
     "data": {
      "text/html": [
       "<div>\n",
       "<style scoped>\n",
       "    .dataframe tbody tr th:only-of-type {\n",
       "        vertical-align: middle;\n",
       "    }\n",
       "\n",
       "    .dataframe tbody tr th {\n",
       "        vertical-align: top;\n",
       "    }\n",
       "\n",
       "    .dataframe thead th {\n",
       "        text-align: right;\n",
       "    }\n",
       "</style>\n",
       "<table border=\"1\" class=\"dataframe\">\n",
       "  <thead>\n",
       "    <tr style=\"text-align: right;\">\n",
       "      <th></th>\n",
       "      <th>statistic</th>\n",
       "      <th>pvalue</th>\n",
       "    </tr>\n",
       "  </thead>\n",
       "  <tbody>\n",
       "    <tr>\n",
       "      <th>monthly_sale</th>\n",
       "      <td>0.285714</td>\n",
       "      <td>0.962704</td>\n",
       "    </tr>\n",
       "    <tr>\n",
       "      <th>monthly_custs</th>\n",
       "      <td>0.285714</td>\n",
       "      <td>0.962704</td>\n",
       "    </tr>\n",
       "  </tbody>\n",
       "</table>\n",
       "</div>"
      ],
      "text/plain": [
       "               statistic    pvalue\n",
       "monthly_sale   0.285714   0.962704\n",
       "monthly_custs  0.285714   0.962704"
      ]
     },
     "execution_count": 44,
     "metadata": {},
     "output_type": "execute_result"
    }
   ],
   "source": [
    "cols_under_consideration = ['monthly_sale', 'monthly_custs']\n",
    "a=[]\n",
    "for x in metrics_df[cols_under_consideration]:\n",
    "    a.append(ks_2samp(metrics_df.loc[86][x], metrics_df.loc[155][x]))\n",
    "a=pd.DataFrame(a, index = cols_under_consideration)\n",
    "a.head()"
   ]
  },
  {
   "cell_type": "markdown",
   "metadata": {
    "id": "5ocvLaZtQO_o",
    "papermill": {
     "duration": 0.157252,
     "end_time": "2020-11-22T07:47:58.156913",
     "exception": false,
     "start_time": "2020-11-22T07:47:57.999661",
     "status": "completed"
    },
    "tags": []
   },
   "source": [
    "From the dataframe above we can say that both are similar (pvalues are high close to 1). Hence we cannot reject our null hypothesis."
   ]
  },
  {
   "cell_type": "markdown",
   "metadata": {
    "id": "R6ASFV0RQO_o",
    "papermill": {
     "duration": 0.151631,
     "end_time": "2020-11-22T07:47:58.462130",
     "exception": false,
     "start_time": "2020-11-22T07:47:58.310499",
     "status": "completed"
    },
    "tags": []
   },
   "source": [
    "Assessment of Trial.\n",
    "\n",
    "Now we'll compare the trial store with the control store in the trial period i.e. from Febraury 2019 to April 2019."
   ]
  },
  {
   "cell_type": "code",
   "execution_count": 45,
   "metadata": {
    "execution": {
     "iopub.execute_input": "2020-11-22T07:47:58.785651Z",
     "iopub.status.busy": "2020-11-22T07:47:58.784637Z",
     "iopub.status.idle": "2020-11-22T07:47:58.790072Z",
     "shell.execute_reply": "2020-11-22T07:47:58.789295Z"
    },
    "executionInfo": {
     "elapsed": 1024,
     "status": "ok",
     "timestamp": 1605768785603,
     "user": {
      "displayName": "Sourabh S",
      "photoUrl": "",
      "userId": "00212742278029482031"
     },
     "user_tz": -330
    },
    "id": "hMBIgVgrQO_p",
    "outputId": "9fd9f996-65c9-442e-e4e6-576a5b9ed42c",
    "papermill": {
     "duration": 0.173329,
     "end_time": "2020-11-22T07:47:58.790192",
     "exception": false,
     "start_time": "2020-11-22T07:47:58.616863",
     "status": "completed"
    },
    "tags": []
   },
   "outputs": [
    {
     "data": {
      "text/html": [
       "<div>\n",
       "<style scoped>\n",
       "    .dataframe tbody tr th:only-of-type {\n",
       "        vertical-align: middle;\n",
       "    }\n",
       "\n",
       "    .dataframe tbody tr th {\n",
       "        vertical-align: top;\n",
       "    }\n",
       "\n",
       "    .dataframe thead th {\n",
       "        text-align: right;\n",
       "    }\n",
       "</style>\n",
       "<table border=\"1\" class=\"dataframe\">\n",
       "  <thead>\n",
       "    <tr style=\"text-align: right;\">\n",
       "      <th></th>\n",
       "      <th>statistic</th>\n",
       "      <th>pvalue</th>\n",
       "    </tr>\n",
       "  </thead>\n",
       "  <tbody>\n",
       "    <tr>\n",
       "      <th>monthly_sale</th>\n",
       "      <td>0.666667</td>\n",
       "      <td>0.6</td>\n",
       "    </tr>\n",
       "    <tr>\n",
       "      <th>monthly_custs</th>\n",
       "      <td>1.000000</td>\n",
       "      <td>0.1</td>\n",
       "    </tr>\n",
       "  </tbody>\n",
       "</table>\n",
       "</div>"
      ],
      "text/plain": [
       "               statistic  pvalue\n",
       "monthly_sale   0.666667   0.6   \n",
       "monthly_custs  1.000000   0.1   "
      ]
     },
     "execution_count": 45,
     "metadata": {},
     "output_type": "execute_result"
    }
   ],
   "source": [
    "b = []\n",
    "for x in trial_metrics_df[cols_under_consideration]:\n",
    "    b.append(ks_2samp(trial_metrics_df.loc[86][x], trial_metrics_df.loc[155][x]))\n",
    "b = pd.DataFrame(b, index = cols_under_consideration)\n",
    "b.head()"
   ]
  },
  {
   "cell_type": "markdown",
   "metadata": {
    "id": "xgoba6a3QO_p",
    "papermill": {
     "duration": 0.070234,
     "end_time": "2020-11-22T07:47:58.954267",
     "exception": false,
     "start_time": "2020-11-22T07:47:58.884033",
     "status": "completed"
    },
    "tags": []
   },
   "source": [
    "\n",
    "Since all of the p-values are high (say more than 0.05), we reject the null hypothesis i.e. there means are significantly different."
   ]
  },
  {
   "cell_type": "markdown",
   "metadata": {
    "id": "reEXMhzSQO_p",
    "papermill": {
     "duration": 0.069599,
     "end_time": "2020-11-22T07:47:59.094263",
     "exception": false,
     "start_time": "2020-11-22T07:47:59.024664",
     "status": "completed"
    },
    "tags": []
   },
   "source": [
    "Comparing each T-Value with 95% percentage significance critical t-value of 6 degrees of freedom (7 months of sample - 1)"
   ]
  },
  {
   "cell_type": "code",
   "execution_count": 46,
   "metadata": {
    "execution": {
     "iopub.execute_input": "2020-11-22T07:47:59.243728Z",
     "iopub.status.busy": "2020-11-22T07:47:59.242826Z",
     "iopub.status.idle": "2020-11-22T07:47:59.250215Z",
     "shell.execute_reply": "2020-11-22T07:47:59.249473Z"
    },
    "executionInfo": {
     "elapsed": 1130,
     "status": "ok",
     "timestamp": 1605768956172,
     "user": {
      "displayName": "Sourabh S",
      "photoUrl": "",
      "userId": "00212742278029482031"
     },
     "user_tz": -330
    },
    "id": "msk3dJZoQO_p",
    "outputId": "12e1166d-607a-4a12-8c9e-38043302be6c",
    "papermill": {
     "duration": 0.08655,
     "end_time": "2020-11-22T07:47:59.250369",
     "exception": false,
     "start_time": "2020-11-22T07:47:59.163819",
     "status": "completed"
    },
    "tags": []
   },
   "outputs": [
    {
     "name": "stdout",
     "output_type": "stream",
     "text": [
      "critical t-value for 95% confidence level:\n"
     ]
    },
    {
     "data": {
      "text/plain": [
       "1.9431802803927816"
      ]
     },
     "execution_count": 46,
     "metadata": {},
     "output_type": "execute_result"
    }
   ],
   "source": [
    "print('critical t-value for 95% confidence level:')\n",
    "t.ppf(0.95, 6)"
   ]
  },
  {
   "cell_type": "markdown",
   "metadata": {
    "id": "8pzEZ8YyQO_p",
    "papermill": {
     "duration": 0.10275,
     "end_time": "2020-11-22T07:47:59.456600",
     "exception": false,
     "start_time": "2020-11-22T07:47:59.353850",
     "status": "completed"
    },
    "tags": []
   },
   "source": [
    "We can see that t-value is greater than 95 percentile for febraury to april.\n",
    "\n",
    "The results show that the trial in store 86 is significantly different to its control store in the trial period as the trial store performance lies outside of the 5% to 95% confidence interval of the control store in two of the three trial months."
   ]
  },
  {
   "cell_type": "markdown",
   "metadata": {
    "id": "OX3yDJvWQO_p",
    "papermill": {
     "duration": 0.128101,
     "end_time": "2020-11-22T07:47:59.695465",
     "exception": false,
     "start_time": "2020-11-22T07:47:59.567364",
     "status": "completed"
    },
    "tags": []
   },
   "source": [
    "Let's plot the means for both the stores in trial period."
   ]
  },
  {
   "cell_type": "code",
   "execution_count": 47,
   "metadata": {
    "execution": {
     "iopub.execute_input": "2020-11-22T07:47:59.920870Z",
     "iopub.status.busy": "2020-11-22T07:47:59.914089Z",
     "iopub.status.idle": "2020-11-22T07:48:00.177780Z",
     "shell.execute_reply": "2020-11-22T07:48:00.177113Z"
    },
    "executionInfo": {
     "elapsed": 1588,
     "status": "ok",
     "timestamp": 1605769163658,
     "user": {
      "displayName": "Sourabh S",
      "photoUrl": "",
      "userId": "00212742278029482031"
     },
     "user_tz": -330
    },
    "id": "wuj1bgshQO_p",
    "outputId": "ee6b168e-0964-4484-c501-c4a9699224ee",
    "papermill": {
     "duration": 0.373312,
     "end_time": "2020-11-22T07:48:00.177906",
     "exception": false,
     "start_time": "2020-11-22T07:47:59.804594",
     "status": "completed"
    },
    "tags": []
   },
   "outputs": [
    {
     "data": {
      "text/plain": [
       "<matplotlib.legend.Legend at 0x7f930e5fd190>"
      ]
     },
     "execution_count": 47,
     "metadata": {},
     "output_type": "execute_result"
    },
    {
     "data": {
      "image/png": "[encoded data removed]",
      "text/plain": [
       "<Figure size 1296x504 with 1 Axes>"
      ]
     },
     "metadata": {},
     "output_type": "display_data"
    }
   ],
   "source": [
    "sns.distplot(trial_metrics_df.loc[86]['monthly_sale'])\n",
    "sns.distplot(trial_metrics_df.loc[155]['monthly_sale'])\n",
    "plt.legend(labels=['86','155'])"
   ]
  },
  {
   "cell_type": "code",
   "execution_count": 48,
   "metadata": {
    "execution": {
     "iopub.execute_input": "2020-11-22T07:48:00.404175Z",
     "iopub.status.busy": "2020-11-22T07:48:00.397274Z",
     "iopub.status.idle": "2020-11-22T07:48:00.641622Z",
     "shell.execute_reply": "2020-11-22T07:48:00.640939Z"
    },
    "executionInfo": {
     "elapsed": 1467,
     "status": "ok",
     "timestamp": 1605769210387,
     "user": {
      "displayName": "Sourabh S",
      "photoUrl": "",
      "userId": "00212742278029482031"
     },
     "user_tz": -330
    },
    "id": "ir-d4RZDQO_q",
    "outputId": "f84c0292-7707-4883-ccc7-e3cede499364",
    "papermill": {
     "duration": 0.358792,
     "end_time": "2020-11-22T07:48:00.641736",
     "exception": false,
     "start_time": "2020-11-22T07:48:00.282944",
     "status": "completed"
    },
    "tags": []
   },
   "outputs": [
    {
     "data": {
      "text/plain": [
       "<matplotlib.legend.Legend at 0x7f930ecf0d10>"
      ]
     },
     "execution_count": 48,
     "metadata": {},
     "output_type": "execute_result"
    },
    {
     "data": {
      "image/png": "[encoded data removed]",
      "text/plain": [
       "<Figure size 1296x504 with 1 Axes>"
      ]
     },
     "metadata": {},
     "output_type": "display_data"
    }
   ],
   "source": [
    "sns.distplot(trial_metrics_df.loc[86]['monthly_custs'])\n",
    "sns.distplot(trial_metrics_df.loc[155]['monthly_custs'])\n",
    "plt.legend(labels=['86','155'])"
   ]
  },
  {
   "cell_type": "markdown",
   "metadata": {
    "id": "l-jmekI6QO_q",
    "papermill": {
     "duration": 0.11017,
     "end_time": "2020-11-22T07:48:00.862790",
     "exception": false,
     "start_time": "2020-11-22T07:48:00.752620",
     "status": "completed"
    },
    "tags": []
   },
   "source": [
    "We can see that the distribution of monthly sale and monthly customers of both the stores in the trial period is much different than the distribution of monthly sale and monthly customers in pre-trial period."
   ]
  },
  {
   "cell_type": "markdown",
   "metadata": {
    "id": "k_7o2I0lQO_q",
    "papermill": {
     "duration": 0.105151,
     "end_time": "2020-11-22T07:48:01.073249",
     "exception": false,
     "start_time": "2020-11-22T07:48:00.968098",
     "status": "completed"
    },
    "tags": []
   },
   "source": [
    "The results show that the trial store 86 is significantly different to its control store in the trial period as the trial store performance lies outside the 5% to 95% confidence interval of the control store in two of the three trial months."
   ]
  },
  {
   "cell_type": "markdown",
   "metadata": {
    "id": "8hfz_TJuQO_q",
    "papermill": {
     "duration": 0.105553,
     "end_time": "2020-11-22T07:48:01.283669",
     "exception": false,
     "start_time": "2020-11-22T07:48:01.178116",
     "status": "completed"
    },
    "tags": []
   },
   "source": [
    "We can also see that there is significant increase in sales of chips in trial stores in the trial period."
   ]
  },
  {
   "cell_type": "markdown",
   "metadata": {
    "id": "1W0q6ScPPKv9",
    "papermill": {
     "duration": 0.104465,
     "end_time": "2020-11-22T07:48:01.494215",
     "exception": false,
     "start_time": "2020-11-22T07:48:01.389750",
     "status": "completed"
    },
    "tags": []
   },
   "source": [
    "## Correlation with trial store: 88"
   ]
  },
  {
   "cell_type": "code",
   "execution_count": 49,
   "metadata": {
    "execution": {
     "iopub.execute_input": "2020-11-22T07:48:01.842683Z",
     "iopub.status.busy": "2020-11-22T07:48:01.751539Z",
     "iopub.status.idle": "2020-11-22T07:48:18.552617Z",
     "shell.execute_reply": "2020-11-22T07:48:18.551954Z"
    },
    "executionInfo": {
     "elapsed": 18436,
     "status": "ok",
     "timestamp": 1605862269812,
     "user": {
      "displayName": "Sourabh S",
      "photoUrl": "",
      "userId": "00212742278029482031"
     },
     "user_tz": -330
    },
    "id": "KH-6DOBHDYBG",
    "outputId": "24507e38-f313-4d05-8675-3711d0178953",
    "papermill": {
     "duration": 16.955089,
     "end_time": "2020-11-22T07:48:18.552724",
     "exception": false,
     "start_time": "2020-11-22T07:48:01.597635",
     "status": "completed"
    },
    "tags": []
   },
   "outputs": [
    {
     "data": {
      "text/html": [
       "<div>\n",
       "<style scoped>\n",
       "    .dataframe tbody tr th:only-of-type {\n",
       "        vertical-align: middle;\n",
       "    }\n",
       "\n",
       "    .dataframe tbody tr th {\n",
       "        vertical-align: top;\n",
       "    }\n",
       "\n",
       "    .dataframe thead th {\n",
       "        text-align: right;\n",
       "    }\n",
       "</style>\n",
       "<table border=\"1\" class=\"dataframe\">\n",
       "  <thead>\n",
       "    <tr style=\"text-align: right;\">\n",
       "      <th></th>\n",
       "      <th>monthly_sale</th>\n",
       "      <th>monthly_custs</th>\n",
       "      <th>mean_corr</th>\n",
       "    </tr>\n",
       "    <tr>\n",
       "      <th>store_nbr</th>\n",
       "      <th></th>\n",
       "      <th></th>\n",
       "      <th></th>\n",
       "    </tr>\n",
       "  </thead>\n",
       "  <tbody>\n",
       "    <tr>\n",
       "      <th>14</th>\n",
       "      <td>0.599664</td>\n",
       "      <td>0.975727</td>\n",
       "      <td>0.787695</td>\n",
       "    </tr>\n",
       "    <tr>\n",
       "      <th>141</th>\n",
       "      <td>0.718477</td>\n",
       "      <td>0.643611</td>\n",
       "      <td>0.681044</td>\n",
       "    </tr>\n",
       "    <tr>\n",
       "      <th>204</th>\n",
       "      <td>0.871969</td>\n",
       "      <td>0.458144</td>\n",
       "      <td>0.665057</td>\n",
       "    </tr>\n",
       "    <tr>\n",
       "      <th>1</th>\n",
       "      <td>0.846112</td>\n",
       "      <td>0.450833</td>\n",
       "      <td>0.648472</td>\n",
       "    </tr>\n",
       "    <tr>\n",
       "      <th>235</th>\n",
       "      <td>0.834842</td>\n",
       "      <td>0.430326</td>\n",
       "      <td>0.632584</td>\n",
       "    </tr>\n",
       "  </tbody>\n",
       "</table>\n",
       "</div>"
      ],
      "text/plain": [
       "           monthly_sale  monthly_custs  mean_corr\n",
       "store_nbr                                        \n",
       "14         0.599664      0.975727       0.787695 \n",
       "141        0.718477      0.643611       0.681044 \n",
       "204        0.871969      0.458144       0.665057 \n",
       "1          0.846112      0.450833       0.648472 \n",
       "235        0.834842      0.430326       0.632584 "
      ]
     },
     "execution_count": 49,
     "metadata": {},
     "output_type": "execute_result"
    }
   ],
   "source": [
    "corr_88 = calc_corr(88).drop(88)\n",
    "corr_88.head()"
   ]
  },
  {
   "cell_type": "code",
   "execution_count": 50,
   "metadata": {
    "execution": {
     "iopub.execute_input": "2020-11-22T07:48:18.796146Z",
     "iopub.status.busy": "2020-11-22T07:48:18.795518Z",
     "iopub.status.idle": "2020-11-22T07:48:19.247425Z",
     "shell.execute_reply": "2020-11-22T07:48:19.246878Z"
    },
    "executionInfo": {
     "elapsed": 1727,
     "status": "ok",
     "timestamp": 1605862340861,
     "user": {
      "displayName": "Sourabh S",
      "photoUrl": "",
      "userId": "00212742278029482031"
     },
     "user_tz": -330
    },
    "id": "Sc6HYtfVi5Av",
    "outputId": "33bc2f27-7372-49f5-ce9c-d03c8148bf37",
    "papermill": {
     "duration": 0.586939,
     "end_time": "2020-11-22T07:48:19.247553",
     "exception": false,
     "start_time": "2020-11-22T07:48:18.660614",
     "status": "completed"
    },
    "tags": []
   },
   "outputs": [
    {
     "data": {
      "image/png": "[encoded data removed]",
      "text/plain": [
       "<Figure size 1296x576 with 1 Axes>"
      ]
     },
     "metadata": {},
     "output_type": "display_data"
    }
   ],
   "source": [
    "corr_88[corr_88['mean_corr'].abs() > 0.55].plot(kind = 'bar', rot = 0, figsize = (18, 8))\n",
    "plt.title('Correlation of trial store 88 with other stores')\n",
    "plt.xlabel('store Number')\n",
    "plt.ylabel('Correlation Co-efficient')\n",
    "plt.show()"
   ]
  },
  {
   "cell_type": "markdown",
   "metadata": {
    "id": "iyFdUYT3UKAH",
    "papermill": {
     "duration": 0.109413,
     "end_time": "2020-11-22T07:48:19.470309",
     "exception": false,
     "start_time": "2020-11-22T07:48:19.360896",
     "status": "completed"
    },
    "tags": []
   },
   "source": [
    "The store '14' has the highest score but we'll consider store '237' as the control store since the monthly sales is much correlated with it. Therefore store '237' is selected as the control store for trial store '88'.\n",
    "\n",
    "Now let's quantify how related it is to the trial store by using plots and some stats. Since monthly sales and customers are only parameters we can monitor. Therefore we'll just see these two parameters."
   ]
  },
  {
   "cell_type": "code",
   "execution_count": 51,
   "metadata": {
    "execution": {
     "iopub.execute_input": "2020-11-22T07:48:19.698573Z",
     "iopub.status.busy": "2020-11-22T07:48:19.692319Z",
     "iopub.status.idle": "2020-11-22T07:48:19.948265Z",
     "shell.execute_reply": "2020-11-22T07:48:19.947655Z"
    },
    "executionInfo": {
     "elapsed": 1848,
     "status": "ok",
     "timestamp": 1605772965185,
     "user": {
      "displayName": "Sourabh S",
      "photoUrl": "",
      "userId": "00212742278029482031"
     },
     "user_tz": -330
    },
    "id": "mol2M7MrUKAH",
    "outputId": "d3904022-2d74-4c6d-eb4c-9a5ea4bb9a62",
    "papermill": {
     "duration": 0.370849,
     "end_time": "2020-11-22T07:48:19.948372",
     "exception": false,
     "start_time": "2020-11-22T07:48:19.577523",
     "status": "completed"
    },
    "tags": []
   },
   "outputs": [
    {
     "data": {
      "image/png": "[encoded data removed]",
      "text/plain": [
       "<Figure size 1296x504 with 1 Axes>"
      ]
     },
     "metadata": {},
     "output_type": "display_data"
    }
   ],
   "source": [
    "fig, ax = plt.subplots()\n",
    "sns.distplot(metrics_df.loc[88]['monthly_sale'], color = 'r', ax = ax)\n",
    "sns.distplot(metrics_df.loc[237]['monthly_sale'], color = 'g', ax = ax)\n",
    "plt.legend(labels = ['88', '237'])\n",
    "plt.show()"
   ]
  },
  {
   "cell_type": "markdown",
   "metadata": {
    "id": "Dx4go9IGUKAJ",
    "papermill": {
     "duration": 0.110479,
     "end_time": "2020-11-22T07:48:20.167790",
     "exception": false,
     "start_time": "2020-11-22T07:48:20.057311",
     "status": "completed"
    },
    "tags": []
   },
   "source": [
    "From the above plot we can see that there is difference in monthly sale in both the stores. But on avarage both the stores are similar."
   ]
  },
  {
   "cell_type": "code",
   "execution_count": 52,
   "metadata": {
    "execution": {
     "iopub.execute_input": "2020-11-22T07:48:20.425071Z",
     "iopub.status.busy": "2020-11-22T07:48:20.424389Z",
     "iopub.status.idle": "2020-11-22T07:48:20.675845Z",
     "shell.execute_reply": "2020-11-22T07:48:20.675175Z"
    },
    "executionInfo": {
     "elapsed": 1013,
     "status": "ok",
     "timestamp": 1605772994656,
     "user": {
      "displayName": "Sourabh S",
      "photoUrl": "",
      "userId": "00212742278029482031"
     },
     "user_tz": -330
    },
    "id": "YnFw2W1OUKAJ",
    "outputId": "c5cbf92b-89a4-4e09-eda0-1bfbcb06f469",
    "papermill": {
     "duration": 0.395943,
     "end_time": "2020-11-22T07:48:20.675952",
     "exception": false,
     "start_time": "2020-11-22T07:48:20.280009",
     "status": "completed"
    },
    "tags": []
   },
   "outputs": [
    {
     "data": {
      "image/png": "[encoded data removed]",
      "text/plain": [
       "<Figure size 1296x504 with 1 Axes>"
      ]
     },
     "metadata": {},
     "output_type": "display_data"
    }
   ],
   "source": [
    "metrics_df.loc[88]['monthly_sale'].plot(kind = 'bar', color = 'g')\n",
    "metrics_df.loc[237]['monthly_sale'].plot(kind = 'bar', color = 'r', alpha = 0.5)\n",
    "plt.xticks(rotation = 0)\n",
    "plt.xlabel('Month')\n",
    "plt.ylabel('Monthly Sale')\n",
    "plt.legend(labels = (88, 237))\n",
    "plt.show()"
   ]
  },
  {
   "cell_type": "markdown",
   "metadata": {
    "id": "uC2nIyyQUKAJ",
    "papermill": {
     "duration": 0.110329,
     "end_time": "2020-11-22T07:48:20.895138",
     "exception": false,
     "start_time": "2020-11-22T07:48:20.784809",
     "status": "completed"
    },
    "tags": []
   },
   "source": [
    "Even though the monthly sale values are diffrent but we see a similar trend in the sales through out the period."
   ]
  },
  {
   "cell_type": "code",
   "execution_count": 53,
   "metadata": {
    "execution": {
     "iopub.execute_input": "2020-11-22T07:48:21.146103Z",
     "iopub.status.busy": "2020-11-22T07:48:21.141130Z",
     "iopub.status.idle": "2020-11-22T07:48:21.378152Z",
     "shell.execute_reply": "2020-11-22T07:48:21.377384Z"
    },
    "executionInfo": {
     "elapsed": 1155,
     "status": "ok",
     "timestamp": 1605773016812,
     "user": {
      "displayName": "Sourabh S",
      "photoUrl": "",
      "userId": "00212742278029482031"
     },
     "user_tz": -330
    },
    "id": "6fCstdTEUKAJ",
    "outputId": "b6ee75fd-68e0-4d63-b263-9a8db545853a",
    "papermill": {
     "duration": 0.369202,
     "end_time": "2020-11-22T07:48:21.378313",
     "exception": false,
     "start_time": "2020-11-22T07:48:21.009111",
     "status": "completed"
    },
    "tags": []
   },
   "outputs": [
    {
     "data": {
      "image/png": "[encoded data removed]",
      "text/plain": [
       "<Figure size 1296x504 with 1 Axes>"
      ]
     },
     "metadata": {},
     "output_type": "display_data"
    }
   ],
   "source": [
    "fig, ax = plt.subplots()\n",
    "sns.distplot(metrics_df.loc[88]['monthly_custs'], color = 'r', ax = ax)\n",
    "sns.distplot(metrics_df.loc[237]['monthly_custs'], color = 'g', ax = ax)\n",
    "plt.legend(labels = ['88', '237'])\n",
    "plt.show()"
   ]
  },
  {
   "cell_type": "markdown",
   "metadata": {
    "id": "5gHSNocJUKAK",
    "papermill": {
     "duration": 0.110664,
     "end_time": "2020-11-22T07:48:21.619114",
     "exception": false,
     "start_time": "2020-11-22T07:48:21.508450",
     "status": "completed"
    },
    "tags": []
   },
   "source": [
    "We can see that monthly customers are similar in both the stores."
   ]
  },
  {
   "cell_type": "code",
   "execution_count": 54,
   "metadata": {
    "execution": {
     "iopub.execute_input": "2020-11-22T07:48:21.864439Z",
     "iopub.status.busy": "2020-11-22T07:48:21.853363Z",
     "iopub.status.idle": "2020-11-22T07:48:22.068567Z",
     "shell.execute_reply": "2020-11-22T07:48:22.067893Z"
    },
    "executionInfo": {
     "elapsed": 2137,
     "status": "ok",
     "timestamp": 1605773105131,
     "user": {
      "displayName": "Sourabh S",
      "photoUrl": "",
      "userId": "00212742278029482031"
     },
     "user_tz": -330
    },
    "id": "7qh3SUt-UKAK",
    "outputId": "90ae2a1f-b7f5-408b-f09e-4b7221628359",
    "papermill": {
     "duration": 0.33901,
     "end_time": "2020-11-22T07:48:22.068677",
     "exception": false,
     "start_time": "2020-11-22T07:48:21.729667",
     "status": "completed"
    },
    "tags": []
   },
   "outputs": [
    {
     "data": {
      "image/png": "[encoded data removed]",
      "text/plain": [
       "<Figure size 1296x504 with 1 Axes>"
      ]
     },
     "metadata": {},
     "output_type": "display_data"
    }
   ],
   "source": [
    "metrics_df.loc[88]['monthly_custs'].plot(kind = 'bar', color = 'g')\n",
    "metrics_df.loc[237]['monthly_custs'].plot(kind = 'bar', color = 'r', alpha = 0.5)\n",
    "plt.xticks(rotation = 0)\n",
    "plt.xlabel('Month')\n",
    "plt.ylabel('Monthly Sale')\n",
    "plt.legend(labels = (88, 237))\n",
    "plt.show()"
   ]
  },
  {
   "cell_type": "markdown",
   "metadata": {
    "id": "G2FEY-wQUKAK",
    "papermill": {
     "duration": 0.116127,
     "end_time": "2020-11-22T07:48:22.297735",
     "exception": false,
     "start_time": "2020-11-22T07:48:22.181608",
     "status": "completed"
    },
    "tags": []
   },
   "source": [
    "Even the trend in the number of customers every month follows a similar trend between the stores."
   ]
  },
  {
   "cell_type": "markdown",
   "metadata": {
    "id": "uQ_rUHaKUKAK",
    "papermill": {
     "duration": 0.114421,
     "end_time": "2020-11-22T07:48:22.529551",
     "exception": false,
     "start_time": "2020-11-22T07:48:22.415130",
     "status": "completed"
    },
    "tags": []
   },
   "source": [
    "Let our null hypothesis be that both the trial store and our selected control store are similar. Now if we want to reject the null hypothesis then we must have pvalue close to zero."
   ]
  },
  {
   "cell_type": "code",
   "execution_count": 55,
   "metadata": {
    "execution": {
     "iopub.execute_input": "2020-11-22T07:48:22.776014Z",
     "iopub.status.busy": "2020-11-22T07:48:22.769670Z",
     "iopub.status.idle": "2020-11-22T07:48:22.781357Z",
     "shell.execute_reply": "2020-11-22T07:48:22.780575Z"
    },
    "executionInfo": {
     "elapsed": 1168,
     "status": "ok",
     "timestamp": 1605773123500,
     "user": {
      "displayName": "Sourabh S",
      "photoUrl": "",
      "userId": "00212742278029482031"
     },
     "user_tz": -330
    },
    "id": "msL2jumTUKAK",
    "outputId": "0b02694c-8d3d-4419-9274-9afd44c220e6",
    "papermill": {
     "duration": 0.137212,
     "end_time": "2020-11-22T07:48:22.781535",
     "exception": false,
     "start_time": "2020-11-22T07:48:22.644323",
     "status": "completed"
    },
    "tags": []
   },
   "outputs": [
    {
     "data": {
      "text/html": [
       "<div>\n",
       "<style scoped>\n",
       "    .dataframe tbody tr th:only-of-type {\n",
       "        vertical-align: middle;\n",
       "    }\n",
       "\n",
       "    .dataframe tbody tr th {\n",
       "        vertical-align: top;\n",
       "    }\n",
       "\n",
       "    .dataframe thead th {\n",
       "        text-align: right;\n",
       "    }\n",
       "</style>\n",
       "<table border=\"1\" class=\"dataframe\">\n",
       "  <thead>\n",
       "    <tr style=\"text-align: right;\">\n",
       "      <th></th>\n",
       "      <th>statistic</th>\n",
       "      <th>pvalue</th>\n",
       "    </tr>\n",
       "  </thead>\n",
       "  <tbody>\n",
       "    <tr>\n",
       "      <th>monthly_sale</th>\n",
       "      <td>0.285714</td>\n",
       "      <td>0.962704</td>\n",
       "    </tr>\n",
       "    <tr>\n",
       "      <th>monthly_custs</th>\n",
       "      <td>0.285714</td>\n",
       "      <td>0.962704</td>\n",
       "    </tr>\n",
       "  </tbody>\n",
       "</table>\n",
       "</div>"
      ],
      "text/plain": [
       "               statistic    pvalue\n",
       "monthly_sale   0.285714   0.962704\n",
       "monthly_custs  0.285714   0.962704"
      ]
     },
     "execution_count": 55,
     "metadata": {},
     "output_type": "execute_result"
    }
   ],
   "source": [
    "cols_under_consideration = ['monthly_sale', 'monthly_custs']\n",
    "a=[]\n",
    "for x in metrics_df[cols_under_consideration]:\n",
    "    a.append(ks_2samp(metrics_df.loc[88][x], metrics_df.loc[237][x]))\n",
    "a=pd.DataFrame(a, index = cols_under_consideration)\n",
    "a.head()"
   ]
  },
  {
   "cell_type": "markdown",
   "metadata": {
    "id": "NYb8l5uvUKAK",
    "papermill": {
     "duration": 0.163795,
     "end_time": "2020-11-22T07:48:23.110157",
     "exception": false,
     "start_time": "2020-11-22T07:48:22.946362",
     "status": "completed"
    },
    "tags": []
   },
   "source": [
    "From the dataframe above we can say that both are similar (pvalues are high close to 1). Hence we cannot reject our null hypothesis."
   ]
  },
  {
   "cell_type": "markdown",
   "metadata": {
    "id": "1ZshkjusUKAK",
    "papermill": {
     "duration": 0.165456,
     "end_time": "2020-11-22T07:48:23.441596",
     "exception": false,
     "start_time": "2020-11-22T07:48:23.276140",
     "status": "completed"
    },
    "tags": []
   },
   "source": [
    "Assessment of Trial.\n",
    "\n",
    "Now we'll compare the trial store with the control store in the trial period i.e. from Febraury 2019 to April 2019."
   ]
  },
  {
   "cell_type": "code",
   "execution_count": 56,
   "metadata": {
    "execution": {
     "iopub.execute_input": "2020-11-22T07:48:23.793461Z",
     "iopub.status.busy": "2020-11-22T07:48:23.785868Z",
     "iopub.status.idle": "2020-11-22T07:48:23.799378Z",
     "shell.execute_reply": "2020-11-22T07:48:23.799882Z"
    },
    "executionInfo": {
     "elapsed": 1226,
     "status": "ok",
     "timestamp": 1605773148764,
     "user": {
      "displayName": "Sourabh S",
      "photoUrl": "",
      "userId": "00212742278029482031"
     },
     "user_tz": -330
    },
    "id": "uobGKB3eUKAK",
    "outputId": "b137fcfb-8d35-41ac-ef3a-d08383939621",
    "papermill": {
     "duration": 0.19258,
     "end_time": "2020-11-22T07:48:23.800034",
     "exception": false,
     "start_time": "2020-11-22T07:48:23.607454",
     "status": "completed"
    },
    "tags": []
   },
   "outputs": [
    {
     "data": {
      "text/html": [
       "<div>\n",
       "<style scoped>\n",
       "    .dataframe tbody tr th:only-of-type {\n",
       "        vertical-align: middle;\n",
       "    }\n",
       "\n",
       "    .dataframe tbody tr th {\n",
       "        vertical-align: top;\n",
       "    }\n",
       "\n",
       "    .dataframe thead th {\n",
       "        text-align: right;\n",
       "    }\n",
       "</style>\n",
       "<table border=\"1\" class=\"dataframe\">\n",
       "  <thead>\n",
       "    <tr style=\"text-align: right;\">\n",
       "      <th></th>\n",
       "      <th>statistic</th>\n",
       "      <th>pvalue</th>\n",
       "    </tr>\n",
       "  </thead>\n",
       "  <tbody>\n",
       "    <tr>\n",
       "      <th>monthly_sale</th>\n",
       "      <td>1.000000</td>\n",
       "      <td>0.1</td>\n",
       "    </tr>\n",
       "    <tr>\n",
       "      <th>monthly_custs</th>\n",
       "      <td>0.666667</td>\n",
       "      <td>0.6</td>\n",
       "    </tr>\n",
       "  </tbody>\n",
       "</table>\n",
       "</div>"
      ],
      "text/plain": [
       "               statistic  pvalue\n",
       "monthly_sale   1.000000   0.1   \n",
       "monthly_custs  0.666667   0.6   "
      ]
     },
     "execution_count": 56,
     "metadata": {},
     "output_type": "execute_result"
    }
   ],
   "source": [
    "b = []\n",
    "for x in trial_metrics_df[cols_under_consideration]:\n",
    "    b.append(ks_2samp(trial_metrics_df.loc[88][x], trial_metrics_df.loc[237][x]))\n",
    "b = pd.DataFrame(b, index = cols_under_consideration)\n",
    "b.head()"
   ]
  },
  {
   "cell_type": "markdown",
   "metadata": {
    "id": "wGkj_nRJUKAL",
    "papermill": {
     "duration": 0.113692,
     "end_time": "2020-11-22T07:48:24.029573",
     "exception": false,
     "start_time": "2020-11-22T07:48:23.915881",
     "status": "completed"
    },
    "tags": []
   },
   "source": [
    "\n",
    "Since all of the p-values are high (say more than 0.05), we reject the null hypothesis i.e. there means are significantly different."
   ]
  },
  {
   "cell_type": "markdown",
   "metadata": {
    "id": "Hvcj8MksUKAL",
    "papermill": {
     "duration": 0.114486,
     "end_time": "2020-11-22T07:48:24.257621",
     "exception": false,
     "start_time": "2020-11-22T07:48:24.143135",
     "status": "completed"
    },
    "tags": []
   },
   "source": [
    "Comparing each T-Value with 95% percentage significance critical t-value of 6 degrees of freedom (7 months of sample - 1)"
   ]
  },
  {
   "cell_type": "code",
   "execution_count": 57,
   "metadata": {
    "execution": {
     "iopub.execute_input": "2020-11-22T07:48:24.494839Z",
     "iopub.status.busy": "2020-11-22T07:48:24.494076Z",
     "iopub.status.idle": "2020-11-22T07:48:24.500957Z",
     "shell.execute_reply": "2020-11-22T07:48:24.500292Z"
    },
    "executionInfo": {
     "elapsed": 1836,
     "status": "ok",
     "timestamp": 1605773167979,
     "user": {
      "displayName": "Sourabh S",
      "photoUrl": "",
      "userId": "00212742278029482031"
     },
     "user_tz": -330
    },
    "id": "w4S2ZjLOUKAL",
    "outputId": "8f588fd4-55a1-4471-fb52-b4f6cee3fca2",
    "papermill": {
     "duration": 0.129301,
     "end_time": "2020-11-22T07:48:24.501073",
     "exception": false,
     "start_time": "2020-11-22T07:48:24.371772",
     "status": "completed"
    },
    "tags": []
   },
   "outputs": [
    {
     "name": "stdout",
     "output_type": "stream",
     "text": [
      "critical t-value for 95% confidence level:\n"
     ]
    },
    {
     "data": {
      "text/plain": [
       "1.9431802803927816"
      ]
     },
     "execution_count": 57,
     "metadata": {},
     "output_type": "execute_result"
    }
   ],
   "source": [
    "print('critical t-value for 95% confidence level:')\n",
    "t.ppf(0.95, 6)"
   ]
  },
  {
   "cell_type": "markdown",
   "metadata": {
    "id": "I_gTlL8VUKAL",
    "papermill": {
     "duration": 0.08063,
     "end_time": "2020-11-22T07:48:24.663463",
     "exception": false,
     "start_time": "2020-11-22T07:48:24.582833",
     "status": "completed"
    },
    "tags": []
   },
   "source": [
    "We can see that t-value is greater than 95 percentile for febraury to april.\n",
    "\n",
    "The results show that the trial in store 88 is significantly different to its control store in the trial period as the trial store performance lies outside of the 5% to 95% confidence interval of the control store in two of the three trial months."
   ]
  },
  {
   "cell_type": "markdown",
   "metadata": {
    "id": "vTRxsI5ZUKAL",
    "papermill": {
     "duration": 0.080798,
     "end_time": "2020-11-22T07:48:24.825304",
     "exception": false,
     "start_time": "2020-11-22T07:48:24.744506",
     "status": "completed"
    },
    "tags": []
   },
   "source": [
    "Let's plot the means for both the stores in trial period."
   ]
  },
  {
   "cell_type": "code",
   "execution_count": 58,
   "metadata": {
    "execution": {
     "iopub.execute_input": "2020-11-22T07:48:25.068788Z",
     "iopub.status.busy": "2020-11-22T07:48:25.068105Z",
     "iopub.status.idle": "2020-11-22T07:48:25.270308Z",
     "shell.execute_reply": "2020-11-22T07:48:25.269732Z"
    },
    "executionInfo": {
     "elapsed": 1374,
     "status": "ok",
     "timestamp": 1605773198138,
     "user": {
      "displayName": "Sourabh S",
      "photoUrl": "",
      "userId": "00212742278029482031"
     },
     "user_tz": -330
    },
    "id": "dp3odCK8UKAL",
    "outputId": "354bb21d-26ff-410f-bf8a-2252f1fe13fd",
    "papermill": {
     "duration": 0.336958,
     "end_time": "2020-11-22T07:48:25.270449",
     "exception": false,
     "start_time": "2020-11-22T07:48:24.933491",
     "status": "completed"
    },
    "tags": []
   },
   "outputs": [
    {
     "data": {
      "text/plain": [
       "<matplotlib.legend.Legend at 0x7f930ef6e490>"
      ]
     },
     "execution_count": 58,
     "metadata": {},
     "output_type": "execute_result"
    },
    {
     "data": {
      "image/png": "[encoded data removed]",
      "text/plain": [
       "<Figure size 1296x504 with 1 Axes>"
      ]
     },
     "metadata": {},
     "output_type": "display_data"
    }
   ],
   "source": [
    "sns.distplot(trial_metrics_df.loc[88]['monthly_sale'])\n",
    "sns.distplot(trial_metrics_df.loc[237]['monthly_sale'])\n",
    "plt.legend(labels=['88','237'])"
   ]
  },
  {
   "cell_type": "code",
   "execution_count": 59,
   "metadata": {
    "execution": {
     "iopub.execute_input": "2020-11-22T07:48:25.613671Z",
     "iopub.status.busy": "2020-11-22T07:48:25.612868Z",
     "iopub.status.idle": "2020-11-22T07:48:25.810288Z",
     "shell.execute_reply": "2020-11-22T07:48:25.810798Z"
    },
    "executionInfo": {
     "elapsed": 2341,
     "status": "ok",
     "timestamp": 1605773217320,
     "user": {
      "displayName": "Sourabh S",
      "photoUrl": "",
      "userId": "00212742278029482031"
     },
     "user_tz": -330
    },
    "id": "uO8Wl5E0UKAL",
    "outputId": "a0a86b9f-5372-4342-b86c-91d348324d10",
    "papermill": {
     "duration": 0.423087,
     "end_time": "2020-11-22T07:48:25.810943",
     "exception": false,
     "start_time": "2020-11-22T07:48:25.387856",
     "status": "completed"
    },
    "tags": []
   },
   "outputs": [
    {
     "data": {
      "text/plain": [
       "<matplotlib.legend.Legend at 0x7f930e837f10>"
      ]
     },
     "execution_count": 59,
     "metadata": {},
     "output_type": "execute_result"
    },
    {
     "data": {
      "image/png": "[encoded data removed]",
      "text/plain": [
       "<Figure size 1296x504 with 1 Axes>"
      ]
     },
     "metadata": {},
     "output_type": "display_data"
    }
   ],
   "source": [
    "sns.distplot(trial_metrics_df.loc[88]['monthly_custs'])\n",
    "sns.distplot(trial_metrics_df.loc[237]['monthly_custs'])\n",
    "plt.legend(labels=['88','237'])"
   ]
  },
  {
   "cell_type": "markdown",
   "metadata": {
    "id": "CV8cHZ0RUKAM",
    "papermill": {
     "duration": 0.102379,
     "end_time": "2020-11-22T07:48:26.031018",
     "exception": false,
     "start_time": "2020-11-22T07:48:25.928639",
     "status": "completed"
    },
    "tags": []
   },
   "source": [
    "We can see that the distribution of monthly sale and monthly customers of both the stores in the trial period is much different than the distribution of monthly sale and monthly customers in pre-trial period."
   ]
  },
  {
   "cell_type": "markdown",
   "metadata": {
    "id": "oPKJQ-S1UKAM",
    "papermill": {
     "duration": 0.120487,
     "end_time": "2020-11-22T07:48:26.267061",
     "exception": false,
     "start_time": "2020-11-22T07:48:26.146574",
     "status": "completed"
    },
    "tags": []
   },
   "source": [
    "The results show that the trial store 88 is significantly different to its control store in the trial period as the trial store performance lies outside the 5% to 95% confidence interval of the control store in two of the three trial months."
   ]
  },
  {
   "cell_type": "markdown",
   "metadata": {
    "id": "ExElalk-UKAM",
    "papermill": {
     "duration": 0.117864,
     "end_time": "2020-11-22T07:48:26.503556",
     "exception": false,
     "start_time": "2020-11-22T07:48:26.385692",
     "status": "completed"
    },
    "tags": []
   },
   "source": [
    "We can also see that there is significant increase in sales of chips in trial stores in the trial period."
   ]
  },
  {
   "cell_type": "markdown",
   "metadata": {
    "id": "PvtfzbNojSRQ",
    "papermill": {
     "duration": 0.117952,
     "end_time": "2020-11-22T07:48:26.739731",
     "exception": false,
     "start_time": "2020-11-22T07:48:26.621779",
     "status": "completed"
    },
    "tags": []
   },
   "source": [
    "Conclusion"
   ]
  },
  {
   "cell_type": "markdown",
   "metadata": {
    "id": "6sIje5pKjOCN",
    "papermill": {
     "duration": 0.118351,
     "end_time": "2020-11-22T07:48:26.977726",
     "exception": false,
     "start_time": "2020-11-22T07:48:26.859375",
     "status": "completed"
    },
    "tags": []
   },
   "source": [
    "The results for trial stores 77 and 88 during the trial period show a significant difference in at least two of the three trial months but this is not the case for trial store 86. We can check with the client if the implementation of the trial was different in trial store 86 but overall, the trial shows a significant increase in sales."
   ]
  }
 ],
 "metadata": {
  "kernelspec": {
   "display_name": "Python 3",
   "language": "python",
   "name": "python3"
  },
  "language_info": {
   "codemirror_mode": {
    "name": "ipython",
    "version": 3
   },
   "file_extension": ".py",
   "mimetype": "text/x-python",
   "name": "python",
   "nbconvert_exporter": "python",
   "pygments_lexer": "ipython3",
   "version": "3.7.6"
  },
  "papermill": {
   "duration": 91.187432,
   "end_time": "2020-11-22T07:48:27.202275",
   "environment_variables": {},
   "exception": null,
   "input_path": "__notebook__.ipynb",
   "output_path": "__notebook__.ipynb",
   "parameters": {},
   "start_time": "2020-11-22T07:46:56.014843",
   "version": "2.1.0"
  }
 },
 "nbformat": 4,
 "nbformat_minor": 4
}
